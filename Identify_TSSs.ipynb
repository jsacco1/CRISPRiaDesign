{
 "cells": [
  {
   "cell_type": "markdown",
   "metadata": {},
   "source": [
    "Real-world example\n",
    "HEP-2 cells BAM file of CAGE data from FANTOM5\n",
    "\n",
    "This notebook requires conda env bio"
   ]
  },
  {
   "cell_type": "code",
   "execution_count": null,
   "metadata": {},
   "outputs": [],
   "source": [
    "!conda activate bio"
   ]
  },
  {
   "cell_type": "code",
   "execution_count": null,
   "metadata": {},
   "outputs": [],
   "source": [
    "# download libraries\n",
    "# !pip install genomicranges pysam pandas pyranges"
   ]
  },
  {
   "cell_type": "code",
   "execution_count": null,
   "metadata": {},
   "outputs": [],
   "source": [
    "#!pip install pyfaidx"
   ]
  },
  {
   "cell_type": "code",
   "execution_count": null,
   "metadata": {},
   "outputs": [],
   "source": [
    "import pysam\n",
    "import pandas as pd\n",
    "from genomicranges import GenomicRanges\n",
    "from iranges import IRanges\n",
    "from biocframe import BiocFrame\n",
    "import pyranges as pr\n",
    "import requests"
   ]
  },
  {
   "cell_type": "code",
   "execution_count": null,
   "metadata": {},
   "outputs": [],
   "source": [
    "import requests\n",
    "import shutil\n",
    "\n",
    "# Define the URL of the BAM file\n",
    "url = \"https://fantom.gsc.riken.jp/5/datafiles/reprocessed/hg38_latest/basic/human.cell_line.hCAGE/Hep-2%2520cells%2520mock%2520treated%252c%2520biol_rep3.CNhs13501.11900-125F1.hg38.nobarcode.bam\"\n"
   ]
  },
  {
   "cell_type": "code",
   "execution_count": null,
   "metadata": {},
   "outputs": [],
   "source": [
    "# # Define the local filename to save the file as\n",
    "# local_filename = \"/Users/jamessacco/dev/CRISPRiaDesign/FANTOM5_bam/Hep-2_cells_mock_treated.bam\"\n",
    "\n",
    "# # Stream download and save the file locally\n",
    "# with requests.get(url, stream=True) as r:\n",
    "#     with open(local_filename, 'wb') as f:\n",
    "#         shutil.copyfileobj(r.raw, f)\n",
    "\n",
    "# print(f\"Downloaded {local_filename}\")"
   ]
  },
  {
   "cell_type": "code",
   "execution_count": null,
   "metadata": {},
   "outputs": [],
   "source": [
    "# # Define the URL of the BAM index file\n",
    "# bai_url = \"https://fantom.gsc.riken.jp/5/datafiles/reprocessed/hg38_latest/basic/human.cell_line.hCAGE/Hep-2%2520cells%2520mock%2520treated%252c%2520biol_rep3.CNhs13501.11900-125F1.hg38.nobarcode.bam.bai\"\n",
    "\n",
    "# # Define the local filename to save the index file as\n",
    "# local_bai_filename = \"/Users/jamessacco/dev/CRISPRiaDesign/FANTOM5_bam/Hep-2_cells_mock_treated.bam.bai\"\n",
    "\n",
    "# # Stream download and save the index file locally\n",
    "# with requests.get(bai_url, stream=True) as r:\n",
    "#     with open(local_bai_filename, 'wb') as f:\n",
    "#         shutil.copyfileobj(r.raw, f)\n",
    "\n",
    "# print(f\"Downloaded {local_bai_filename}\")\n"
   ]
  },
  {
   "cell_type": "code",
   "execution_count": 83,
   "metadata": {},
   "outputs": [
    {
     "ename": "KeyboardInterrupt",
     "evalue": "",
     "output_type": "error",
     "traceback": [
      "\u001b[0;31m---------------------------------------------------------------------------\u001b[0m",
      "\u001b[0;31mKeyboardInterrupt\u001b[0m                         Traceback (most recent call last)",
      "\u001b[0;31mKeyboardInterrupt\u001b[0m: "
     ]
    }
   ],
   "source": [
    "# Define the path to your BAM file\n",
    "bam_file_path = \"FANTOM5_bam/Hep-2_cells_mock_treated.bam\"\n",
    "\n",
    "# Open the BAM file using PySAM\n",
    "bam = pysam.AlignmentFile(bam_file_path, \"rb\")\n",
    "\n",
    "# Extract reads and create a DataFrame for TSSs\n",
    "tss_data = []\n",
    "for read in bam.fetch():\n",
    "    if not read.is_unmapped:\n",
    "        tss_data.append({\n",
    "            \"seqnames\": read.reference_name,\n",
    "            \"start\": read.reference_start,\n",
    "            \"end\": read.reference_end,\n",
    "            \"strand\": \"+\" if not read.is_reverse else \"-\",\n",
    "            \"score\": read.mapping_quality\n",
    "        })\n",
    "\n",
    "bam.close()"
   ]
  },
  {
   "cell_type": "code",
   "execution_count": null,
   "metadata": {},
   "outputs": [
    {
     "name": "stdout",
     "output_type": "stream",
     "text": [
      "  seqnames  start    end strand  score\n",
      "0     chr1  10072  10114      +      1\n",
      "1     chr1  10159  10186      -      6\n",
      "2     chr1  10620  10646      +      1\n",
      "3     chr1  10828  10851      +      2\n",
      "4     chr1  10828  10850      +      1\n"
     ]
    }
   ],
   "source": [
    "# Convert to DataFrame\n",
    "df_tss = pd.DataFrame(tss_data)\n",
    "print(df_tss.head())"
   ]
  },
  {
   "cell_type": "code",
   "execution_count": null,
   "metadata": {},
   "outputs": [],
   "source": [
    "# Rename columns 'start' to 'starts' and 'end' to 'ends'\n",
    "df_tss.rename(columns={'start': 'starts', 'end': 'ends'}, inplace=True)\n"
   ]
  },
  {
   "cell_type": "code",
   "execution_count": null,
   "metadata": {},
   "outputs": [
    {
     "name": "stdout",
     "output_type": "stream",
     "text": [
      "  seqnames  starts   ends strand  score\n",
      "0     chr1   10072  10114      +      1\n",
      "1     chr1   10159  10186      -      6\n",
      "2     chr1   10620  10646      +      1\n",
      "3     chr1   10828  10851      +      2\n",
      "4     chr1   10828  10850      +      1\n"
     ]
    }
   ],
   "source": [
    "\n",
    "# Display the updated DataFrame\n",
    "print(df_tss.head())\n"
   ]
  },
  {
   "cell_type": "code",
   "execution_count": null,
   "metadata": {},
   "outputs": [
    {
     "name": "stdout",
     "output_type": "stream",
     "text": [
      "score\n",
      "40    2430514\n",
      "2     2002555\n",
      "3     1958302\n",
      "4     1205378\n",
      "1      985903\n",
      "5      850747\n",
      "6      654041\n",
      "7      525066\n",
      "8      424776\n",
      "9      355360\n",
      "10     308265\n",
      "11     275264\n",
      "12     238129\n",
      "13     199199\n",
      "14     181158\n",
      "15     176699\n",
      "16     150626\n",
      "17     136364\n",
      "18     122867\n",
      "19     103971\n",
      "20      92624\n",
      "21      86991\n",
      "22      81924\n",
      "23      78155\n",
      "24      73814\n",
      "25      73741\n",
      "26      71756\n",
      "28      66867\n",
      "27      66126\n",
      "29      62270\n",
      "30      60161\n",
      "32      58455\n",
      "31      56505\n",
      "35      55804\n",
      "34      54114\n",
      "33      52635\n",
      "39      50167\n",
      "38      48284\n",
      "37      47370\n",
      "36      46995\n",
      "0       29288\n",
      "Name: count, dtype: int64\n"
     ]
    }
   ],
   "source": [
    "\n",
    "# Display Quality Score of CAGE reads\n",
    "print(df_tss.score.value_counts())"
   ]
  },
  {
   "cell_type": "code",
   "execution_count": null,
   "metadata": {},
   "outputs": [
    {
     "name": "stdout",
     "output_type": "stream",
     "text": [
      "         seqnames  starts   ends strand  score\n",
      "12463238    chr20   60021  60044      -      1\n",
      "12463239    chr20   60130  60166      -      6\n",
      "12463240    chr20   60687  60709      +     20\n",
      "12463241    chr20   61499  61535      +      2\n",
      "12463242    chr20   61666  61697      +      4\n"
     ]
    }
   ],
   "source": [
    "# Filter for chromosome 20\n",
    "chr20_tss = df_tss[df_tss['seqnames'] == 'chr20']\n",
    "print(chr20_tss.head())"
   ]
  },
  {
   "cell_type": "code",
   "execution_count": null,
   "metadata": {},
   "outputs": [],
   "source": [
    "#!wget -P ref/ https://ftp.ensembl.org/pub/release-109/gtf/homo_sapiens/Homo_sapiens.GRCh38.109.chr.gtf.gz "
   ]
  },
  {
   "cell_type": "code",
   "execution_count": null,
   "metadata": {},
   "outputs": [],
   "source": [
    "#!gunzip -k ref/Homo_sapiens.GRCh38.109.chr.gtf.gz"
   ]
  },
  {
   "cell_type": "code",
   "execution_count": null,
   "metadata": {},
   "outputs": [],
   "source": [
    "# Load GTF file (assuming it's already downloaded and contains chromosome 20 annotations)\n",
    "gtf = pr.read_gtf(\"ref/Homo_sapiens.GRCh38.109.chr.gtf\")\n"
   ]
  },
  {
   "cell_type": "code",
   "execution_count": null,
   "metadata": {},
   "outputs": [],
   "source": [
    "# Filter GTF for protein-coding transcripts on chromosome 20\n",
    "gtf_chr20 = gtf[gtf.Chromosome == '20']"
   ]
  },
  {
   "cell_type": "code",
   "execution_count": null,
   "metadata": {},
   "outputs": [
    {
     "name": "stdout",
     "output_type": "stream",
     "text": [
      "+--------------+------------+------------+-----------+-----------+-------+\n",
      "|   Chromosome | Source     | Feature    |     Start |       End | +21   |\n",
      "|   (category) | (object)   | (object)   |   (int64) |   (int64) | ...   |\n",
      "|--------------+------------+------------+-----------+-----------+-------|\n",
      "|           20 | havana     | gene       |   6446722 |   6528459 | ...   |\n",
      "|           20 | havana     | transcript |   6446722 |   6528459 | ...   |\n",
      "|           20 | havana     | exon       |   6446722 |   6446823 | ...   |\n",
      "|           20 | havana     | exon       |   6473538 |   6473655 | ...   |\n",
      "|           20 | havana     | exon       |   6527193 |   6528459 | ...   |\n",
      "|           20 | havana     | gene       |   8248703 |   8256918 | ...   |\n",
      "|           20 | havana     | transcript |   8248703 |   8249742 | ...   |\n",
      "|           20 | havana     | exon       |   8248703 |   8248790 | ...   |\n",
      "+--------------+------------+------------+-----------+-----------+-------+\n",
      "Stranded PyRanges object has 8 rows and 26 columns from 1 chromosomes.\n",
      "For printing, the PyRanges was sorted on Chromosome and Strand.\n",
      "21 hidden columns: Score, Strand, Frame, gene_id, gene_version, gene_name, gene_source, ... (+ 14 more.)\n"
     ]
    }
   ],
   "source": [
    "print(gtf_chr20.head())"
   ]
  },
  {
   "cell_type": "markdown",
   "metadata": {},
   "source": [
    "Annotate TSSs with Closest Transcripts\n",
    "Use pyranges to find overlaps or nearest features between your TSSs and the GTF annotations."
   ]
  },
  {
   "cell_type": "code",
   "execution_count": null,
   "metadata": {},
   "outputs": [
    {
     "name": "stderr",
     "output_type": "stream",
     "text": [
      "/var/folders/kv/f7hcb8_55h570k3pl9dsnwzc0000gn/T/ipykernel_4372/1128778547.py:2: SettingWithCopyWarning: \n",
      "A value is trying to be set on a copy of a slice from a DataFrame\n",
      "\n",
      "See the caveats in the documentation: https://pandas.pydata.org/pandas-docs/stable/user_guide/indexing.html#returning-a-view-versus-a-copy\n",
      "  chr20_tss.rename(columns={'seqnames': 'Chromosome', 'starts': 'Start', 'ends': 'End'}, inplace=True)\n"
     ]
    }
   ],
   "source": [
    "# Rename columns 'start' to 'starts' and 'end' to 'ends'\n",
    "chr20_tss.rename(columns={'seqnames': 'Chromosome', 'starts': 'Start', 'ends': 'End'}, inplace=True)"
   ]
  },
  {
   "cell_type": "code",
   "execution_count": null,
   "metadata": {},
   "outputs": [
    {
     "data": {
      "text/html": [
       "<div>\n",
       "<style scoped>\n",
       "    .dataframe tbody tr th:only-of-type {\n",
       "        vertical-align: middle;\n",
       "    }\n",
       "\n",
       "    .dataframe tbody tr th {\n",
       "        vertical-align: top;\n",
       "    }\n",
       "\n",
       "    .dataframe thead th {\n",
       "        text-align: right;\n",
       "    }\n",
       "</style>\n",
       "<table border=\"1\" class=\"dataframe\">\n",
       "  <thead>\n",
       "    <tr style=\"text-align: right;\">\n",
       "      <th></th>\n",
       "      <th>Chromosome</th>\n",
       "      <th>Start</th>\n",
       "      <th>End</th>\n",
       "      <th>strand</th>\n",
       "      <th>score</th>\n",
       "    </tr>\n",
       "  </thead>\n",
       "  <tbody>\n",
       "    <tr>\n",
       "      <th>12463238</th>\n",
       "      <td>chr20</td>\n",
       "      <td>60021</td>\n",
       "      <td>60044</td>\n",
       "      <td>-</td>\n",
       "      <td>1</td>\n",
       "    </tr>\n",
       "    <tr>\n",
       "      <th>12463239</th>\n",
       "      <td>chr20</td>\n",
       "      <td>60130</td>\n",
       "      <td>60166</td>\n",
       "      <td>-</td>\n",
       "      <td>6</td>\n",
       "    </tr>\n",
       "    <tr>\n",
       "      <th>12463240</th>\n",
       "      <td>chr20</td>\n",
       "      <td>60687</td>\n",
       "      <td>60709</td>\n",
       "      <td>+</td>\n",
       "      <td>20</td>\n",
       "    </tr>\n",
       "    <tr>\n",
       "      <th>12463241</th>\n",
       "      <td>chr20</td>\n",
       "      <td>61499</td>\n",
       "      <td>61535</td>\n",
       "      <td>+</td>\n",
       "      <td>2</td>\n",
       "    </tr>\n",
       "    <tr>\n",
       "      <th>12463242</th>\n",
       "      <td>chr20</td>\n",
       "      <td>61666</td>\n",
       "      <td>61697</td>\n",
       "      <td>+</td>\n",
       "      <td>4</td>\n",
       "    </tr>\n",
       "  </tbody>\n",
       "</table>\n",
       "</div>"
      ],
      "text/plain": [
       "         Chromosome  Start    End strand  score\n",
       "12463238      chr20  60021  60044      -      1\n",
       "12463239      chr20  60130  60166      -      6\n",
       "12463240      chr20  60687  60709      +     20\n",
       "12463241      chr20  61499  61535      +      2\n",
       "12463242      chr20  61666  61697      +      4"
      ]
     },
     "execution_count": 69,
     "metadata": {},
     "output_type": "execute_result"
    }
   ],
   "source": [
    "chr20_tss.head()"
   ]
  },
  {
   "cell_type": "code",
   "execution_count": null,
   "metadata": {},
   "outputs": [],
   "source": [
    "# Create PyRanges object for TSS data\n",
    "tss_ranges = pr.PyRanges(chr20_tss)\n"
   ]
  },
  {
   "cell_type": "code",
   "execution_count": null,
   "metadata": {},
   "outputs": [
    {
     "name": "stdout",
     "output_type": "stream",
     "text": [
      "+--------------+-----------+-----------+------------+-----------+\n",
      "| Chromosome   | Start     | End       | strand     | score     |\n",
      "| (category)   | (int64)   | (int64)   | (object)   | (int64)   |\n",
      "|--------------+-----------+-----------+------------+-----------|\n",
      "| 20           | 60021     | 60044     | -          | 1         |\n",
      "| 20           | 60130     | 60166     | -          | 6         |\n",
      "| 20           | 60687     | 60709     | +          | 20        |\n",
      "| 20           | 61499     | 61535     | +          | 2         |\n",
      "| ...          | ...       | ...       | ...        | ...       |\n",
      "| 20           | 64331189  | 64331210  | +          | 1         |\n",
      "| 20           | 64331353  | 64331381  | +          | 2         |\n",
      "| 20           | 64333032  | 64333056  | +          | 2         |\n",
      "| 20           | 64333064  | 64333087  | +          | 4         |\n",
      "+--------------+-----------+-----------+------------+-----------+\n",
      "Unstranded PyRanges object has 384,610 rows and 5 columns from 1 chromosomes.\n",
      "For printing, the PyRanges was sorted on Chromosome.\n"
     ]
    }
   ],
   "source": [
    "# Remove 'chr' prefix from Chromosome column in tss_ranges\n",
    "tss_ranges.Chromosome = tss_ranges.Chromosome.str.replace('^chr', '', regex=True)\n",
    "\n",
    "# Verify the change\n",
    "print(tss_ranges)"
   ]
  },
  {
   "cell_type": "code",
   "execution_count": null,
   "metadata": {},
   "outputs": [
    {
     "name": "stdout",
     "output_type": "stream",
     "text": [
      "+--------------+------------+------------+-----------+-----------+-------+\n",
      "| Chromosome   | Source     | Feature    | Start     | End       | +21   |\n",
      "| (category)   | (object)   | (object)   | (int64)   | (int64)   | ...   |\n",
      "|--------------+------------+------------+-----------+-----------+-------|\n",
      "| 20           | havana     | gene       | 6446722   | 6528459   | ...   |\n",
      "| 20           | havana     | transcript | 6446722   | 6528459   | ...   |\n",
      "| 20           | havana     | exon       | 6446722   | 6446823   | ...   |\n",
      "| 20           | havana     | exon       | 6473538   | 6473655   | ...   |\n",
      "| ...          | ...        | ...        | ...       | ...       | ...   |\n",
      "| 20           | havana     | CDS        | 3689599   | 3689702   | ...   |\n",
      "| 20           | havana     | exon       | 3688510   | 3688619   | ...   |\n",
      "| 20           | havana     | CDS        | 3688513   | 3688619   | ...   |\n",
      "| 20           | havana     | stop_codon | 3688510   | 3688513   | ...   |\n",
      "+--------------+------------+------------+-----------+-----------+-------+\n",
      "Stranded PyRanges object has 80,665 rows and 26 columns from 1 chromosomes.\n",
      "For printing, the PyRanges was sorted on Chromosome and Strand.\n",
      "21 hidden columns: Score, Strand, Frame, gene_id, gene_version, gene_name, gene_source, ... (+ 14 more.)\n"
     ]
    }
   ],
   "source": [
    "# Display the PyRanges object\n",
    "print(gtf_chr20)"
   ]
  },
  {
   "cell_type": "code",
   "execution_count": 76,
   "metadata": {},
   "outputs": [
    {
     "name": "stdout",
     "output_type": "stream",
     "text": [
      "TSS DataFrame is empty: False\n",
      "GTF DataFrame is empty: False\n"
     ]
    }
   ],
   "source": [
    "# Check if the DataFrames are not empty\n",
    "print(\"TSS DataFrame is empty:\", df_tss.empty)\n",
    "print(\"GTF DataFrame is empty:\", gtf_chr20.empty)"
   ]
  },
  {
   "cell_type": "code",
   "execution_count": null,
   "metadata": {},
   "outputs": [
    {
     "name": "stdout",
     "output_type": "stream",
     "text": [
      "+--------------+-----------+-----------+------------+-----------+-------+\n",
      "| Chromosome   | Start     | End       | strand     | score     | +26   |\n",
      "| (category)   | (int64)   | (int64)   | (object)   | (int64)   | ...   |\n",
      "|--------------+-----------+-----------+------------+-----------+-------|\n",
      "| 20           | 88647     | 88673     | +          | 2         | ...   |\n",
      "| 20           | 88753     | 88776     | +          | 3         | ...   |\n",
      "| 20           | 88984     | 89010     | +          | 13        | ...   |\n",
      "| 20           | 89600     | 89625     | +          | 4         | ...   |\n",
      "| ...          | ...       | ...       | ...        | ...       | ...   |\n",
      "| 20           | 64331189  | 64331210  | +          | 1         | ...   |\n",
      "| 20           | 64331353  | 64331381  | +          | 2         | ...   |\n",
      "| 20           | 64333032  | 64333056  | +          | 2         | ...   |\n",
      "| 20           | 64333064  | 64333087  | +          | 4         | ...   |\n",
      "+--------------+-----------+-----------+------------+-----------+-------+\n",
      "Stranded PyRanges object has 384,610 rows and 31 columns from 1 chromosomes.\n",
      "For printing, the PyRanges was sorted on Chromosome and Strand.\n",
      "26 hidden columns: Source, Feature, Start_annotation, End_annotation, Score, ... (+ 21 more.)\n"
     ]
    }
   ],
   "source": [
    "# Assuming gtf_chr20 is already defined and correctly formatted\n",
    "# Find nearest transcripts for each TSS\n",
    "nearest_transcripts = tss_ranges.nearest(gtf_chr20, overlap=True, strandedness = None, apply_strand_suffix=False, how=None, suffix=\"_annotation\")\n",
    "\n",
    "# Display annotated TSSs\n",
    "print(nearest_transcripts)"
   ]
  },
  {
   "cell_type": "code",
   "execution_count": null,
   "metadata": {},
   "outputs": [
    {
     "name": "stdout",
     "output_type": "stream",
     "text": [
      "Index(['Chromosome', 'Start', 'End', 'strand', 'score', 'Source', 'Feature',\n",
      "       'Start_annotation', 'End_annotation', 'Score', 'Strand', 'Frame',\n",
      "       'gene_id', 'gene_version', 'gene_name', 'gene_source', 'gene_biotype',\n",
      "       'transcript_id', 'transcript_version', 'transcript_name',\n",
      "       'transcript_source', 'transcript_biotype', 'tag', 'ccds_id',\n",
      "       'exon_number', 'exon_id', 'exon_version', 'protein_id',\n",
      "       'protein_version', 'transcript_support_level', 'Distance'],\n",
      "      dtype='object')\n"
     ]
    }
   ],
   "source": [
    "print(nearest_transcripts.columns)"
   ]
  },
  {
   "cell_type": "code",
   "execution_count": null,
   "metadata": {},
   "outputs": [
    {
     "name": "stdout",
     "output_type": "stream",
     "text": [
      "Distance\n",
      "0        282277\n",
      "15          213\n",
      "123         190\n",
      "122         189\n",
      "12          184\n",
      "          ...  \n",
      "99974         1\n",
      "99935         1\n",
      "99739         1\n",
      "99419         1\n",
      "6164          1\n",
      "Name: count, Length: 44962, dtype: int64\n"
     ]
    }
   ],
   "source": [
    "print(nearest_transcripts.Distance.value_counts())"
   ]
  },
  {
   "cell_type": "code",
   "execution_count": 84,
   "metadata": {},
   "outputs": [
    {
     "data": {
      "image/png": "[encoded data removed]",
      "text/plain": [
       "<Figure size 1000x600 with 1 Axes>"
      ]
     },
     "metadata": {},
     "output_type": "display_data"
    }
   ],
   "source": [
    "import matplotlib.pyplot as plt\n",
    "\n",
    "# Convert PyRanges object to DataFrame\n",
    "df_nearest = nearest_transcripts.df\n",
    "\n",
    "# Check if 'Distance' column exists\n",
    "if 'Distance' in df_nearest.columns:\n",
    "    # Plot histogram of the Distance column\n",
    "    plt.figure(figsize=(10, 6))\n",
    "    plt.hist(df_nearest['Distance'], bins=50, color='skyblue', edgecolor='black')\n",
    "    plt.title('Histogram of Nearest Transcript Distances')\n",
    "    plt.xlabel('Distance')\n",
    "    plt.ylabel('Frequency')\n",
    "\n",
    "    # Save the plot as a PNG file\n",
    "    plt.savefig('plots/nearest_transcript_distances.png')\n",
    "\n",
    "    # Show the plot (optional)\n",
    "    plt.show()\n",
    "else:\n",
    "    print(\"The 'Distance' column does not exist in the nearest_transcripts DataFrame.\")"
   ]
  },
  {
   "cell_type": "code",
   "execution_count": 85,
   "metadata": {},
   "outputs": [
    {
     "data": {
      "image/png": "[encoded data removed]",
      "text/plain": [
       "<Figure size 1000x600 with 1 Axes>"
      ]
     },
     "metadata": {},
     "output_type": "display_data"
    }
   ],
   "source": [
    "# Assume df_nearest is your DataFrame with a 'Distance' column\n",
    "df_nearest = nearest_transcripts.df\n",
    "\n",
    "# Calculate the 95th percentile of the Distance column\n",
    "distance_95th_percentile = df_nearest['Distance'].quantile(0.95)\n",
    "\n",
    "# Remove entries in the Distance column that exceed the 95th percentile\n",
    "filtered_df_nearest = df_nearest[df_nearest['Distance'] <= distance_95th_percentile]\n",
    "\n",
    "# Plot histogram of the filtered Distance column\n",
    "plt.figure(figsize=(10, 6))\n",
    "plt.hist(filtered_df_nearest['Distance'], bins=50, color='skyblue', edgecolor='black')\n",
    "plt.title('Histogram of Nearest Transcript Distances (Outliers Removed)')\n",
    "plt.xlabel('Distance')\n",
    "plt.ylabel('Frequency')\n",
    "\n",
    "# Save the plot as a PNG file\n",
    "plt.savefig('plots/nearest_transcript_distances_filtered.png')\n",
    "\n",
    "# Show the plot\n",
    "plt.show()"
   ]
  },
  {
   "cell_type": "code",
   "execution_count": 86,
   "metadata": {},
   "outputs": [
    {
     "data": {
      "image/png": "[encoded data removed]",
      "text/plain": [
       "<Figure size 1000x600 with 1 Axes>"
      ]
     },
     "metadata": {},
     "output_type": "display_data"
    }
   ],
   "source": [
    "# Assume df_nearest is your DataFrame with a 'Distance' column\n",
    "df_nearest = nearest_transcripts.df\n",
    "\n",
    "# Calculate the 95th percentile of the Distance column\n",
    "distance_95th_percentile = df_nearest['Distance'].quantile(0.95)\n",
    "\n",
    "# Remove entries in the Distance column that exceed the 95th percentile\n",
    "filtered_df_nearest = df_nearest[df_nearest['Distance'] <= distance_95th_percentile]\n",
    "\n",
    "# Plot histogram of the filtered Distance column with a log scale\n",
    "plt.figure(figsize=(10, 6))\n",
    "plt.hist(filtered_df_nearest['Distance'], bins=50, color='skyblue', edgecolor='black')\n",
    "plt.yscale('log')  # Set y-axis to log scale\n",
    "plt.title('Histogram of Nearest Transcript Distances (Outliers Removed)')\n",
    "plt.xlabel('Distance')\n",
    "plt.ylabel('Frequency (log scale)')\n",
    "\n",
    "# Save the plot as a PNG file\n",
    "plt.savefig('plots/nearest_transcript_distances_filtered_log.png')\n",
    "\n",
    "# Show the plot\n",
    "plt.show()"
   ]
  }
 ],
 "metadata": {
  "kernelspec": {
   "display_name": "library",
   "language": "python",
   "name": "python3"
  },
  "language_info": {
   "codemirror_mode": {
    "name": "ipython",
    "version": 3
   },
   "file_extension": ".py",
   "mimetype": "text/x-python",
   "name": "python",
   "nbconvert_exporter": "python",
   "pygments_lexer": "ipython3",
   "version": "3.12.2"
  }
 },
 "nbformat": 4,
 "nbformat_minor": 2
}
