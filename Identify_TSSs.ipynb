{
 "cells": [
  {
   "cell_type": "markdown",
   "metadata": {},
   "source": [
    "Real-world example\n",
    "HEP-2 cells BAM file of CAGE data from FANTOM5\n",
    "\n",
    "This notebook requires conda env bio"
   ]
  },
  {
   "cell_type": "code",
   "execution_count": 1,
   "metadata": {},
   "outputs": [],
   "source": [
    "# download libraries\n",
    "# !pip install genomicranges pysam pandas pyranges"
   ]
  },
  {
   "cell_type": "code",
   "execution_count": 3,
   "metadata": {},
   "outputs": [],
   "source": [
    "import pysam\n",
    "import pandas as pd\n",
    "from genomicranges import GenomicRanges\n",
    "from iranges import IRanges\n",
    "from biocframe import BiocFrame\n",
    "import pyranges as pr"
   ]
  },
  {
   "cell_type": "code",
   "execution_count": 4,
   "metadata": {},
   "outputs": [],
   "source": [
    "import requests\n",
    "import shutil\n",
    "\n",
    "# Define the URL of the BAM file\n",
    "url = \"https://fantom.gsc.riken.jp/5/datafiles/reprocessed/hg38_latest/basic/human.cell_line.hCAGE/Hep-2%2520cells%2520mock%2520treated%252c%2520biol_rep3.CNhs13501.11900-125F1.hg38.nobarcode.bam\"\n"
   ]
  },
  {
   "cell_type": "code",
   "execution_count": 5,
   "metadata": {},
   "outputs": [],
   "source": [
    "# Define the local filename to save the file as\n",
    "local_filename = \"Hep-2_cells_mock_treated.bam\"\n",
    "\n",
    "# Stream download and save the file locally\n",
    "with requests.get(url, stream=True) as r:\n",
    "    with open(local_filename, 'wb') as f:\n",
    "        shutil.copyfileobj(r.raw, f)\n",
    "\n",
    "print(f\"Downloaded {local_filename}\")"
   ]
  },
  {
   "cell_type": "code",
   "execution_count": null,
   "metadata": {},
   "outputs": [],
   "source": [
    "# Define the URL of the BAM index file\n",
    "bai_url = \"https://fantom.gsc.riken.jp/5/datafiles/reprocessed/hg38_latest/basic/human.cell_line.hCAGE/Hep-2%2520cells%2520mock%2520treated%252c%2520biol_rep3.CNhs13501.11900-125F1.hg38.nobarcode.bam.bai\"\n",
    "\n",
    "# Define the local filename to save the index file as\n",
    "local_bai_filename = \"Hep-2_cells_mock_treated.bam.bai\"\n",
    "\n",
    "# Stream download and save the index file locally\n",
    "with requests.get(bai_url, stream=True) as r:\n",
    "    with open(local_bai_filename, 'wb') as f:\n",
    "        shutil.copyfileobj(r.raw, f)\n",
    "\n",
    "print(f\"Downloaded {local_bai_filename}\")\n"
   ]
  }
 ],
 "metadata": {
  "kernelspec": {
   "display_name": "library",
   "language": "python",
   "name": "python3"
  },
  "language_info": {
   "codemirror_mode": {
    "name": "ipython",
    "version": 3
   },
   "file_extension": ".py",
   "mimetype": "text/x-python",
   "name": "python",
   "nbconvert_exporter": "python",
   "pygments_lexer": "ipython3",
   "version": "3.12.2"
  }
 },
 "nbformat": 4,
 "nbformat_minor": 2
}
