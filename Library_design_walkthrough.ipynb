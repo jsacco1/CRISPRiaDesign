{
 "cells": [
  {
   "cell_type": "markdown",
   "metadata": {},
   "source": [
    "1. Learning sgRNA predictors from empirical data\n",
    "    * Load scripts and empirical data\n",
    "    * Generate TSS annotation using FANTOM dataset\n",
    "    * Calculate parameters for empirical sgRNAs\n",
    "    * Fit parameters\n",
    "2. Applying machine learning model to predict sgRNA activity\n",
    "    * Find all sgRNAs in genomic regions of interest \n",
    "    * Predicting sgRNA activity\n",
    "3. Construct sgRNA libraries\n",
    "    * Score sgRNAs for off-target potential\n",
    "* Pick the top sgRNAs for a library, given predicted activity scores and off-target filtering\n",
    "* Design negative controls matching the base composition of the library\n",
    "* Finalizing library design"
   ]
  },
  {
   "cell_type": "markdown",
   "metadata": {},
   "source": [
    "# 1. Learning sgRNA predictors from empirical data\n",
    "## Load scripts and empirical data"
   ]
  },
  {
   "cell_type": "code",
   "execution_count": 1,
   "metadata": {
    "collapsed": false
   },
   "outputs": [],
   "source": [
    "import sys\n",
    "sys.path.insert(0, '../ScreenProcessing/')\n",
    "%run sgRNA_learning.py"
   ]
  },
  {
   "cell_type": "code",
   "execution_count": 2,
   "metadata": {
    "collapsed": false
   },
   "outputs": [
    {
     "name": "stdout",
     "output_type": "stream",
     "text": [
      "Loading genome file...Done\n"
     ]
    }
   ],
   "source": [
    "genomeDict = loadGenomeAsDict('large_data_files/hg19.fa')"
   ]
  },
  {
   "cell_type": "code",
   "execution_count": 3,
   "metadata": {
    "collapsed": false
   },
   "outputs": [
    {
     "data": {
      "text/html": [
       "<div>\n",
       "<table border=\"1\" class=\"dataframe\">\n",
       "  <thead>\n",
       "    <tr style=\"text-align: right;\">\n",
       "      <th></th>\n",
       "      <th>sublibrary</th>\n",
       "      <th>gene</th>\n",
       "      <th>transcripts</th>\n",
       "      <th>sequence</th>\n",
       "    </tr>\n",
       "    <tr>\n",
       "      <th>sgId</th>\n",
       "      <th></th>\n",
       "      <th></th>\n",
       "      <th></th>\n",
       "      <th></th>\n",
       "    </tr>\n",
       "  </thead>\n",
       "  <tbody>\n",
       "    <tr>\n",
       "      <th>Drug_Targets+Kinase_Phosphatase=AARS_+_70323216.24-all~e39m1</th>\n",
       "      <td>drug_targets+kinase_phosphatase</td>\n",
       "      <td>AARS</td>\n",
       "      <td>all</td>\n",
       "      <td>GCCCCAGGATCAGGCCCCGCG</td>\n",
       "    </tr>\n",
       "    <tr>\n",
       "      <th>Drug_Targets+Kinase_Phosphatase=AARS_+_70323296.24-all~e39m1</th>\n",
       "      <td>drug_targets+kinase_phosphatase</td>\n",
       "      <td>AARS</td>\n",
       "      <td>all</td>\n",
       "      <td>GGCCGCCCTCGGAGAGCTCTG</td>\n",
       "    </tr>\n",
       "    <tr>\n",
       "      <th>Drug_Targets+Kinase_Phosphatase=AARS_+_70323318.24-all~e39m1</th>\n",
       "      <td>drug_targets+kinase_phosphatase</td>\n",
       "      <td>AARS</td>\n",
       "      <td>all</td>\n",
       "      <td>GACGGCGACCCTAGGAGAGGT</td>\n",
       "    </tr>\n",
       "    <tr>\n",
       "      <th>Drug_Targets+Kinase_Phosphatase=AARS_+_70323362.24-all~e39m1</th>\n",
       "      <td>drug_targets+kinase_phosphatase</td>\n",
       "      <td>AARS</td>\n",
       "      <td>all</td>\n",
       "      <td>GGTGCAGCGGGCCCTTGGCGG</td>\n",
       "    </tr>\n",
       "    <tr>\n",
       "      <th>Drug_Targets+Kinase_Phosphatase=AARS_+_70323441.24-all~e39m1</th>\n",
       "      <td>drug_targets+kinase_phosphatase</td>\n",
       "      <td>AARS</td>\n",
       "      <td>all</td>\n",
       "      <td>GCGCTCTGATTGGACGGAGCG</td>\n",
       "    </tr>\n",
       "  </tbody>\n",
       "</table>\n",
       "</div>"
      ],
      "text/plain": [
       "                                                                         sublibrary  \\\n",
       "sgId                                                                                  \n",
       "Drug_Targets+Kinase_Phosphatase=AARS_+_70323216...  drug_targets+kinase_phosphatase   \n",
       "Drug_Targets+Kinase_Phosphatase=AARS_+_70323296...  drug_targets+kinase_phosphatase   \n",
       "Drug_Targets+Kinase_Phosphatase=AARS_+_70323318...  drug_targets+kinase_phosphatase   \n",
       "Drug_Targets+Kinase_Phosphatase=AARS_+_70323362...  drug_targets+kinase_phosphatase   \n",
       "Drug_Targets+Kinase_Phosphatase=AARS_+_70323441...  drug_targets+kinase_phosphatase   \n",
       "\n",
       "                                                    gene transcripts  \\\n",
       "sgId                                                                   \n",
       "Drug_Targets+Kinase_Phosphatase=AARS_+_70323216...  AARS         all   \n",
       "Drug_Targets+Kinase_Phosphatase=AARS_+_70323296...  AARS         all   \n",
       "Drug_Targets+Kinase_Phosphatase=AARS_+_70323318...  AARS         all   \n",
       "Drug_Targets+Kinase_Phosphatase=AARS_+_70323362...  AARS         all   \n",
       "Drug_Targets+Kinase_Phosphatase=AARS_+_70323441...  AARS         all   \n",
       "\n",
       "                                                                 sequence  \n",
       "sgId                                                                       \n",
       "Drug_Targets+Kinase_Phosphatase=AARS_+_70323216...  GCCCCAGGATCAGGCCCCGCG  \n",
       "Drug_Targets+Kinase_Phosphatase=AARS_+_70323296...  GGCCGCCCTCGGAGAGCTCTG  \n",
       "Drug_Targets+Kinase_Phosphatase=AARS_+_70323318...  GACGGCGACCCTAGGAGAGGT  \n",
       "Drug_Targets+Kinase_Phosphatase=AARS_+_70323362...  GGTGCAGCGGGCCCTTGGCGG  \n",
       "Drug_Targets+Kinase_Phosphatase=AARS_+_70323441...  GCGCTCTGATTGGACGGAGCG  "
      ]
     },
     "execution_count": 3,
     "metadata": {},
     "output_type": "execute_result"
    }
   ],
   "source": [
    "#to use pre-calculated sgRNA activity score data (e.g. provided CRISPRi training data), load the following:\n",
    "#CRISPRa activity score data also included in data_files\n",
    "libraryTable_training = pd.read_csv('data_files/CRISPRi_trainingdata_libraryTable.txt', sep='\\t', index_col = 0)\n",
    "libraryTable_training.head()"
   ]
  },
  {
   "cell_type": "code",
   "execution_count": 4,
   "metadata": {
    "collapsed": false
   },
   "outputs": [
    {
     "data": {
      "text/html": [
       "<div>\n",
       "<table border=\"1\" class=\"dataframe\">\n",
       "  <thead>\n",
       "    <tr style=\"text-align: right;\">\n",
       "      <th></th>\n",
       "      <th>Sublibrary</th>\n",
       "      <th>gene_name</th>\n",
       "      <th>length</th>\n",
       "      <th>pam coordinate</th>\n",
       "      <th>pass_score</th>\n",
       "      <th>position</th>\n",
       "      <th>strand</th>\n",
       "      <th>transcript_list</th>\n",
       "    </tr>\n",
       "    <tr>\n",
       "      <th>sgId</th>\n",
       "      <th></th>\n",
       "      <th></th>\n",
       "      <th></th>\n",
       "      <th></th>\n",
       "      <th></th>\n",
       "      <th></th>\n",
       "      <th></th>\n",
       "      <th></th>\n",
       "    </tr>\n",
       "  </thead>\n",
       "  <tbody>\n",
       "    <tr>\n",
       "      <th>Drug_Targets+Kinase_Phosphatase=AARS_+_70323216.24-all~e39m1</th>\n",
       "      <td>Drug_Targets+Kinase_Phosphatase</td>\n",
       "      <td>AARS</td>\n",
       "      <td>24</td>\n",
       "      <td>70323216</td>\n",
       "      <td>e39m1</td>\n",
       "      <td>70323216</td>\n",
       "      <td>+</td>\n",
       "      <td>['all']</td>\n",
       "    </tr>\n",
       "    <tr>\n",
       "      <th>Drug_Targets+Kinase_Phosphatase=AARS_+_70323296.24-all~e39m1</th>\n",
       "      <td>Drug_Targets+Kinase_Phosphatase</td>\n",
       "      <td>AARS</td>\n",
       "      <td>24</td>\n",
       "      <td>70323296</td>\n",
       "      <td>e39m1</td>\n",
       "      <td>70323296</td>\n",
       "      <td>+</td>\n",
       "      <td>['all']</td>\n",
       "    </tr>\n",
       "    <tr>\n",
       "      <th>Drug_Targets+Kinase_Phosphatase=AARS_+_70323318.24-all~e39m1</th>\n",
       "      <td>Drug_Targets+Kinase_Phosphatase</td>\n",
       "      <td>AARS</td>\n",
       "      <td>24</td>\n",
       "      <td>70323318</td>\n",
       "      <td>e39m1</td>\n",
       "      <td>70323318</td>\n",
       "      <td>+</td>\n",
       "      <td>['all']</td>\n",
       "    </tr>\n",
       "    <tr>\n",
       "      <th>Drug_Targets+Kinase_Phosphatase=AARS_+_70323362.24-all~e39m1</th>\n",
       "      <td>Drug_Targets+Kinase_Phosphatase</td>\n",
       "      <td>AARS</td>\n",
       "      <td>24</td>\n",
       "      <td>70323362</td>\n",
       "      <td>e39m1</td>\n",
       "      <td>70323362</td>\n",
       "      <td>+</td>\n",
       "      <td>['all']</td>\n",
       "    </tr>\n",
       "    <tr>\n",
       "      <th>Drug_Targets+Kinase_Phosphatase=AARS_+_70323441.24-all~e39m1</th>\n",
       "      <td>Drug_Targets+Kinase_Phosphatase</td>\n",
       "      <td>AARS</td>\n",
       "      <td>24</td>\n",
       "      <td>70323441</td>\n",
       "      <td>e39m1</td>\n",
       "      <td>70323441</td>\n",
       "      <td>+</td>\n",
       "      <td>['all']</td>\n",
       "    </tr>\n",
       "  </tbody>\n",
       "</table>\n",
       "</div>"
      ],
      "text/plain": [
       "                                                                         Sublibrary  \\\n",
       "sgId                                                                                  \n",
       "Drug_Targets+Kinase_Phosphatase=AARS_+_70323216...  Drug_Targets+Kinase_Phosphatase   \n",
       "Drug_Targets+Kinase_Phosphatase=AARS_+_70323296...  Drug_Targets+Kinase_Phosphatase   \n",
       "Drug_Targets+Kinase_Phosphatase=AARS_+_70323318...  Drug_Targets+Kinase_Phosphatase   \n",
       "Drug_Targets+Kinase_Phosphatase=AARS_+_70323362...  Drug_Targets+Kinase_Phosphatase   \n",
       "Drug_Targets+Kinase_Phosphatase=AARS_+_70323441...  Drug_Targets+Kinase_Phosphatase   \n",
       "\n",
       "                                                   gene_name  length  \\\n",
       "sgId                                                                   \n",
       "Drug_Targets+Kinase_Phosphatase=AARS_+_70323216...      AARS      24   \n",
       "Drug_Targets+Kinase_Phosphatase=AARS_+_70323296...      AARS      24   \n",
       "Drug_Targets+Kinase_Phosphatase=AARS_+_70323318...      AARS      24   \n",
       "Drug_Targets+Kinase_Phosphatase=AARS_+_70323362...      AARS      24   \n",
       "Drug_Targets+Kinase_Phosphatase=AARS_+_70323441...      AARS      24   \n",
       "\n",
       "                                                    pam coordinate pass_score  \\\n",
       "sgId                                                                            \n",
       "Drug_Targets+Kinase_Phosphatase=AARS_+_70323216...        70323216      e39m1   \n",
       "Drug_Targets+Kinase_Phosphatase=AARS_+_70323296...        70323296      e39m1   \n",
       "Drug_Targets+Kinase_Phosphatase=AARS_+_70323318...        70323318      e39m1   \n",
       "Drug_Targets+Kinase_Phosphatase=AARS_+_70323362...        70323362      e39m1   \n",
       "Drug_Targets+Kinase_Phosphatase=AARS_+_70323441...        70323441      e39m1   \n",
       "\n",
       "                                                    position strand  \\\n",
       "sgId                                                                  \n",
       "Drug_Targets+Kinase_Phosphatase=AARS_+_70323216...  70323216      +   \n",
       "Drug_Targets+Kinase_Phosphatase=AARS_+_70323296...  70323296      +   \n",
       "Drug_Targets+Kinase_Phosphatase=AARS_+_70323318...  70323318      +   \n",
       "Drug_Targets+Kinase_Phosphatase=AARS_+_70323362...  70323362      +   \n",
       "Drug_Targets+Kinase_Phosphatase=AARS_+_70323441...  70323441      +   \n",
       "\n",
       "                                                   transcript_list  \n",
       "sgId                                                                \n",
       "Drug_Targets+Kinase_Phosphatase=AARS_+_70323216...         ['all']  \n",
       "Drug_Targets+Kinase_Phosphatase=AARS_+_70323296...         ['all']  \n",
       "Drug_Targets+Kinase_Phosphatase=AARS_+_70323318...         ['all']  \n",
       "Drug_Targets+Kinase_Phosphatase=AARS_+_70323362...         ['all']  \n",
       "Drug_Targets+Kinase_Phosphatase=AARS_+_70323441...         ['all']  "
      ]
     },
     "execution_count": 4,
     "metadata": {},
     "output_type": "execute_result"
    }
   ],
   "source": [
    "sgInfoTable_training = pd.read_csv('data_files/CRISPRi_trainingdata_sgRNAInfoTable.txt', sep='\\t', index_col=0)\n",
    "sgInfoTable_training.head()"
   ]
  },
  {
   "cell_type": "code",
   "execution_count": 5,
   "metadata": {
    "collapsed": false
   },
   "outputs": [
    {
     "data": {
      "text/plain": [
       "0\n",
       "Drug_Targets+Kinase_Phosphatase=AARS_+_70323216.24-all~e39m1    0.348892\n",
       "Drug_Targets+Kinase_Phosphatase=AARS_+_70323296.24-all~e39m1    0.912409\n",
       "Drug_Targets+Kinase_Phosphatase=AARS_+_70323318.24-all~e39m1    0.997242\n",
       "Drug_Targets+Kinase_Phosphatase=AARS_+_70323362.24-all~e39m1    0.962154\n",
       "Drug_Targets+Kinase_Phosphatase=AARS_+_70323441.24-all~e39m1    0.019320\n",
       "Name: 1, dtype: float64"
      ]
     },
     "execution_count": 5,
     "metadata": {},
     "output_type": "execute_result"
    }
   ],
   "source": [
    "activityScores = pd.read_csv('data_files/CRISPRi_trainingdata_activityScores.txt',sep='\\t',index_col=0, header=None).iloc[:,0]\n",
    "activityScores.head()"
   ]
  },
  {
   "cell_type": "code",
   "execution_count": 6,
   "metadata": {
    "collapsed": false
   },
   "outputs": [
    {
     "data": {
      "text/html": [
       "<div>\n",
       "<table border=\"1\" class=\"dataframe\">\n",
       "  <thead>\n",
       "    <tr style=\"text-align: right;\">\n",
       "      <th></th>\n",
       "      <th></th>\n",
       "      <th>position</th>\n",
       "      <th>strand</th>\n",
       "      <th>chromosome</th>\n",
       "      <th>cage peak ranges</th>\n",
       "    </tr>\n",
       "    <tr>\n",
       "      <th>gene</th>\n",
       "      <th>transcripts</th>\n",
       "      <th></th>\n",
       "      <th></th>\n",
       "      <th></th>\n",
       "      <th></th>\n",
       "    </tr>\n",
       "  </thead>\n",
       "  <tbody>\n",
       "    <tr>\n",
       "      <th>A1BG</th>\n",
       "      <th>all</th>\n",
       "      <td>58864864</td>\n",
       "      <td>-</td>\n",
       "      <td>chr19</td>\n",
       "      <td>[(58864822, 58864847), (58864848, 58864868)]</td>\n",
       "    </tr>\n",
       "    <tr>\n",
       "      <th rowspan=\"2\" valign=\"top\">A1CF</th>\n",
       "      <th>ENST00000373993.1</th>\n",
       "      <td>52619744</td>\n",
       "      <td>-</td>\n",
       "      <td>chr10</td>\n",
       "      <td>[]</td>\n",
       "    </tr>\n",
       "    <tr>\n",
       "      <th>ENST00000374001.2,ENST00000373997.3,ENST00000282641.2</th>\n",
       "      <td>52645434</td>\n",
       "      <td>-</td>\n",
       "      <td>chr10</td>\n",
       "      <td>[(52645379, 52645393), (52645416, 52645444)]</td>\n",
       "    </tr>\n",
       "    <tr>\n",
       "      <th>A2M</th>\n",
       "      <th>all</th>\n",
       "      <td>9268752</td>\n",
       "      <td>-</td>\n",
       "      <td>chr12</td>\n",
       "      <td>[(9268547, 9268556), (9268559, 9268568), (9268...</td>\n",
       "    </tr>\n",
       "    <tr>\n",
       "      <th>A2ML1</th>\n",
       "      <th>all</th>\n",
       "      <td>8975067</td>\n",
       "      <td>+</td>\n",
       "      <td>chr12</td>\n",
       "      <td>[(8975061, 8975072), (8975101, 8975108), (8975...</td>\n",
       "    </tr>\n",
       "  </tbody>\n",
       "</table>\n",
       "</div>"
      ],
      "text/plain": [
       "                                                          position strand  \\\n",
       "gene  transcripts                                                           \n",
       "A1BG  all                                                 58864864      -   \n",
       "A1CF  ENST00000373993.1                                   52619744      -   \n",
       "      ENST00000374001.2,ENST00000373997.3,ENST0000028...  52645434      -   \n",
       "A2M   all                                                  9268752      -   \n",
       "A2ML1 all                                                  8975067      +   \n",
       "\n",
       "                                                         chromosome  \\\n",
       "gene  transcripts                                                     \n",
       "A1BG  all                                                     chr19   \n",
       "A1CF  ENST00000373993.1                                       chr10   \n",
       "      ENST00000374001.2,ENST00000373997.3,ENST0000028...      chr10   \n",
       "A2M   all                                                     chr12   \n",
       "A2ML1 all                                                     chr12   \n",
       "\n",
       "                                                                                           cage peak ranges  \n",
       "gene  transcripts                                                                                            \n",
       "A1BG  all                                                      [(58864822, 58864847), (58864848, 58864868)]  \n",
       "A1CF  ENST00000373993.1                                                                                  []  \n",
       "      ENST00000374001.2,ENST00000373997.3,ENST0000028...       [(52645379, 52645393), (52645416, 52645444)]  \n",
       "A2M   all                                                 [(9268547, 9268556), (9268559, 9268568), (9268...  \n",
       "A2ML1 all                                                 [(8975061, 8975072), (8975101, 8975108), (8975...  "
      ]
     },
     "execution_count": 6,
     "metadata": {},
     "output_type": "execute_result"
    }
   ],
   "source": [
    "tssTable = pd.read_csv('data_files/human_tssTable.txt',sep='\\t', index_col=range(2))\n",
    "tssTable.head()"
   ]
  },
  {
   "cell_type": "code",
   "execution_count": 7,
   "metadata": {
    "collapsed": false
   },
   "outputs": [
    {
     "data": {
      "text/html": [
       "<div>\n",
       "<table border=\"1\" class=\"dataframe\">\n",
       "  <thead>\n",
       "    <tr style=\"text-align: right;\">\n",
       "      <th></th>\n",
       "      <th></th>\n",
       "      <th>chromosome</th>\n",
       "      <th>strand</th>\n",
       "      <th>TSS source</th>\n",
       "      <th>primary TSS</th>\n",
       "      <th>secondary TSS</th>\n",
       "    </tr>\n",
       "    <tr>\n",
       "      <th>gene</th>\n",
       "      <th>transcript</th>\n",
       "      <th></th>\n",
       "      <th></th>\n",
       "      <th></th>\n",
       "      <th></th>\n",
       "      <th></th>\n",
       "    </tr>\n",
       "  </thead>\n",
       "  <tbody>\n",
       "    <tr>\n",
       "      <th rowspan=\"2\" valign=\"top\">A1BG</th>\n",
       "      <th>P1</th>\n",
       "      <td>chr19</td>\n",
       "      <td>-</td>\n",
       "      <td>CAGE, matched peaks</td>\n",
       "      <td>(58858938, 58859039)</td>\n",
       "      <td>(58858938, 58859039)</td>\n",
       "    </tr>\n",
       "    <tr>\n",
       "      <th>P2</th>\n",
       "      <td>chr19</td>\n",
       "      <td>-</td>\n",
       "      <td>CAGE, matched peaks</td>\n",
       "      <td>(58864822, 58864847)</td>\n",
       "      <td>(58864822, 58864847)</td>\n",
       "    </tr>\n",
       "    <tr>\n",
       "      <th>A1CF</th>\n",
       "      <th>P1P2</th>\n",
       "      <td>chr10</td>\n",
       "      <td>-</td>\n",
       "      <td>CAGE, matched peaks</td>\n",
       "      <td>(52645379, 52645393)</td>\n",
       "      <td>(52645379, 52645393)</td>\n",
       "    </tr>\n",
       "    <tr>\n",
       "      <th>A2M</th>\n",
       "      <th>P1P2</th>\n",
       "      <td>chr12</td>\n",
       "      <td>-</td>\n",
       "      <td>CAGE, matched peaks</td>\n",
       "      <td>(9268507, 9268523)</td>\n",
       "      <td>(9268528, 9268542)</td>\n",
       "    </tr>\n",
       "    <tr>\n",
       "      <th>A2ML1</th>\n",
       "      <th>P1P2</th>\n",
       "      <td>chr12</td>\n",
       "      <td>+</td>\n",
       "      <td>CAGE, matched peaks</td>\n",
       "      <td>(8975206, 8975223)</td>\n",
       "      <td>(8975144, 8975169)</td>\n",
       "    </tr>\n",
       "  </tbody>\n",
       "</table>\n",
       "</div>"
      ],
      "text/plain": [
       "                 chromosome strand           TSS source           primary TSS  \\\n",
       "gene  transcript                                                                \n",
       "A1BG  P1              chr19      -  CAGE, matched peaks  (58858938, 58859039)   \n",
       "      P2              chr19      -  CAGE, matched peaks  (58864822, 58864847)   \n",
       "A1CF  P1P2            chr10      -  CAGE, matched peaks  (52645379, 52645393)   \n",
       "A2M   P1P2            chr12      -  CAGE, matched peaks    (9268507, 9268523)   \n",
       "A2ML1 P1P2            chr12      +  CAGE, matched peaks    (8975206, 8975223)   \n",
       "\n",
       "                         secondary TSS  \n",
       "gene  transcript                        \n",
       "A1BG  P1          (58858938, 58859039)  \n",
       "      P2          (58864822, 58864847)  \n",
       "A1CF  P1P2        (52645379, 52645393)  \n",
       "A2M   P1P2          (9268528, 9268542)  \n",
       "A2ML1 P1P2          (8975144, 8975169)  "
      ]
     },
     "execution_count": 7,
     "metadata": {},
     "output_type": "execute_result"
    }
   ],
   "source": [
    "p1p2Table = pd.read_csv('data_files/human_p1p2Table.txt',sep='\\t', header=0, index_col=range(2))\n",
    "p1p2Table['primary TSS'] = p1p2Table['primary TSS'].apply(lambda tupString: (int(tupString.strip('()').split(', ')[0].split('.')[0]), int(tupString.strip('()').split(', ')[1].split('.')[0])))\n",
    "p1p2Table['secondary TSS'] = p1p2Table['secondary TSS'].apply(lambda tupString: (int(tupString.strip('()').split(', ')[0].split('.')[0]),int(tupString.strip('()').split(', ')[1].split('.')[0])))\n",
    "p1p2Table.head()"
   ]
  },
  {
   "cell_type": "markdown",
   "metadata": {
    "collapsed": true
   },
   "source": [
    "## Calculate parameters for empirical sgRNAs"
   ]
  },
  {
   "cell_type": "markdown",
   "metadata": {
    "collapsed": true
   },
   "source": [
    "### Because scikit-learn currently does not support any robust method for saving and re-loading the machine learning model, the best strategy is to simply re-learn the model from the training data"
   ]
  },
  {
   "cell_type": "code",
   "execution_count": 8,
   "metadata": {
    "collapsed": false
   },
   "outputs": [],
   "source": [
    "#Load bigwig files for any chromatin data of interest\n",
    "bwhandleDict = {'dnase':BigWigFile(open('large_data_files/wgEncodeOpenChromDnaseK562BaseOverlapSignalV2.bigWig')),\n",
    "'faire':BigWigFile(open('large_data_files/wgEncodeOpenChromFaireK562Sig.bigWig')),\n",
    "'mnase':BigWigFile(open('large_data_files/wgEncodeSydhNsomeK562Sig.bigWig'))}"
   ]
  },
  {
   "cell_type": "code",
   "execution_count": 9,
   "metadata": {
    "collapsed": false
   },
   "outputs": [
    {
     "name": "stdout",
     "output_type": "stream",
     "text": [
      "...."
     ]
    },
    {
     "name": "stderr",
     "output_type": "stream",
     "text": [
      "/usr/local/lib/python2.7/dist-packages/numpy/lib/nanfunctions.py:675: RuntimeWarning: Mean of empty slice\n",
      "  warnings.warn(\"Mean of empty slice\", RuntimeWarning)\n",
      "/usr/local/lib/python2.7/dist-packages/numpy/lib/nanfunctions.py:326: RuntimeWarning: All-NaN slice encountered\n",
      "  warnings.warn(\"All-NaN slice encountered\", RuntimeWarning)\n"
     ]
    },
    {
     "name": "stdout",
     "output_type": "stream",
     "text": [
      ".Done!"
     ]
    }
   ],
   "source": [
    "paramTable_trainingGuides = generateTypicalParamTable(libraryTable_training,sgInfoTable_training, tssTable, p1p2Table, genomeDict, bwhandleDict)"
   ]
  },
  {
   "cell_type": "markdown",
   "metadata": {},
   "source": [
    "## Fit parameters"
   ]
  },
  {
   "cell_type": "code",
   "execution_count": 10,
   "metadata": {
    "collapsed": false
   },
   "outputs": [],
   "source": [
    "#load in the 5-fold cross-validation splits used to generate the model\n",
    "import cPickle\n",
    "with open('data_files/CRISPRi_trainingdata_traintestsets.txt') as infile:\n",
    "    geneFold_train, geneFold_test, fitTable = cPickle.load(infile)"
   ]
  },
  {
   "cell_type": "code",
   "execution_count": 11,
   "metadata": {
    "collapsed": false
   },
   "outputs": [
    {
     "name": "stdout",
     "output_type": "stream",
     "text": [
      "('distance', 'primary TSS-Up') {'C': 0.05, 'gamma': 0.0001}\n",
      "('distance', 'primary TSS-Down') {'C': 0.5, 'gamma': 5e-05}\n",
      "('distance', 'secondary TSS-Up') {'C': 0.1, 'gamma': 5e-05}\n",
      "('distance', 'secondary TSS-Down') {'C': 0.1, 'gamma': 5e-05}\n"
     ]
    },
    {
     "name": "stderr",
     "output_type": "stream",
     "text": [
      "/home/mhorlbeck/.local/lib/python2.7/site-packages/sklearn/utils/validation.py:323: UserWarning: StandardScaler assumes floating point values as input, got object\n",
      "  \"got %s\" % (estimator, X.dtype))\n",
      "/home/mhorlbeck/.local/lib/python2.7/site-packages/sklearn/linear_model/base.py:400: FutureWarning: elementwise comparison failed; returning scalar instead, but in the future will perform elementwise comparison\n",
      "  if precompute == 'auto':\n"
     ]
    },
    {
     "name": "stdout",
     "output_type": "stream",
     "text": [
      "Prediction AUC-ROC: 0.803109696478\n",
      "Prediction R^2: 0.31263687609\n",
      "Regression parameters: 0.5 0.00534455043278\n",
      "Number of features used: 327\n"
     ]
    }
   ],
   "source": [
    "transformedParams_train, estimators = fitParams(paramTable_trainingGuides.loc[activityScores.dropna().index].iloc[geneFold_train], activityScores.loc[activityScores.dropna().index].iloc[geneFold_train], fitTable)\n",
    "\n",
    "transformedParams_test = transformParams(paramTable_trainingGuides.loc[activityScores.dropna().index].iloc[geneFold_test], fitTable, estimators)\n",
    "\n",
    "reg = linear_model.ElasticNetCV(l1_ratio=[.5, .75, .9, .99,1], n_jobs=16, max_iter=2000)\n",
    "\n",
    "scaler = preprocessing.StandardScaler()\n",
    "reg.fit(scaler.fit_transform(transformedParams_train), activityScores.loc[activityScores.dropna().index].iloc[geneFold_train])\n",
    "predictedScores = pd.Series(reg.predict(scaler.transform(transformedParams_test)), index=transformedParams_test.index)\n",
    "testScores = activityScores.loc[activityScores.dropna().index].iloc[geneFold_test]\n",
    "\n",
    "print 'Prediction AUC-ROC:', metrics.roc_auc_score((testScores >= .75).values, np.array(predictedScores.values,dtype='float64'))\n",
    "print 'Prediction R^2:', reg.score(scaler.transform(transformedParams_test), testScores)\n",
    "print 'Regression parameters:', reg.l1_ratio_, reg.alpha_\n",
    "coefs = pd.DataFrame(zip(*[abs(reg.coef_),reg.coef_]), index = transformedParams_test.columns, columns=['abs','true'])\n",
    "print 'Number of features used:', len(coefs) - sum(coefs['abs'] < .00000000001)"
   ]
  },
  {
   "cell_type": "code",
   "execution_count": null,
   "metadata": {
    "collapsed": true
   },
   "outputs": [],
   "source": [
    "#can save state for reproducing estimators later\n",
    "#the pickling of the scikit-learn estimators/regressors will allow the model to be reloaded for prediction of other guide designs, \n",
    "#   but will not be compatible across scikit-learn versions, so it is important to preserve the training data and training/test folds\n",
    "import cPickle\n",
    "estimatorString = cPickle.dumps((fitTable, estimators, scaler, reg))\n",
    "with open(PICKLE_FILE,'w') as outfile:\n",
    "    outfile.write(estimatorString)\n",
    "    \n",
    "#also save the transformed parameters as these can slightly differ based on the automated binning strategy\n",
    "transformedParams_train.head().to_csv(TRANSFORMED_PARAM_HEADER,sep='\\t')"
   ]
  },
  {
   "cell_type": "markdown",
   "metadata": {
    "collapsed": true
   },
   "source": [
    "# 2. Applying machine learning model to predict sgRNA activity"
   ]
  },
  {
   "cell_type": "markdown",
   "metadata": {},
   "source": [
    "## Generate TSS annotation using FANTOM dataset"
   ]
  },
  {
   "cell_type": "code",
   "execution_count": 12,
   "metadata": {
    "collapsed": false
   },
   "outputs": [
    {
     "data": {
      "text/html": [
       "<div>\n",
       "<table border=\"1\" class=\"dataframe\">\n",
       "  <thead>\n",
       "    <tr style=\"text-align: right;\">\n",
       "      <th></th>\n",
       "      <th></th>\n",
       "      <th>position</th>\n",
       "      <th>strand</th>\n",
       "      <th>chromosome</th>\n",
       "    </tr>\n",
       "    <tr>\n",
       "      <th>gene</th>\n",
       "      <th>transcripts</th>\n",
       "      <th></th>\n",
       "      <th></th>\n",
       "      <th></th>\n",
       "    </tr>\n",
       "  </thead>\n",
       "  <tbody>\n",
       "    <tr>\n",
       "      <th>AADACL2</th>\n",
       "      <th>all</th>\n",
       "      <td>151451714</td>\n",
       "      <td>+</td>\n",
       "      <td>chr3</td>\n",
       "    </tr>\n",
       "    <tr>\n",
       "      <th rowspan=\"3\" valign=\"top\">AADAT</th>\n",
       "      <th>ENST00000337664.4</th>\n",
       "      <td>171011117</td>\n",
       "      <td>-</td>\n",
       "      <td>chr4</td>\n",
       "    </tr>\n",
       "    <tr>\n",
       "      <th>ENST00000337664.4,ENST00000509167.1,ENST00000353187.2</th>\n",
       "      <td>171011284</td>\n",
       "      <td>-</td>\n",
       "      <td>chr4</td>\n",
       "    </tr>\n",
       "    <tr>\n",
       "      <th>ENST00000509167.1,ENST00000515480.1,ENST00000353187.2</th>\n",
       "      <td>171011424</td>\n",
       "      <td>-</td>\n",
       "      <td>chr4</td>\n",
       "    </tr>\n",
       "    <tr>\n",
       "      <th>AAED1</th>\n",
       "      <th>all</th>\n",
       "      <td>99417562</td>\n",
       "      <td>-</td>\n",
       "      <td>chr9</td>\n",
       "    </tr>\n",
       "  </tbody>\n",
       "</table>\n",
       "</div>"
      ],
      "text/plain": [
       "                                                             position strand  \\\n",
       "gene    transcripts                                                            \n",
       "AADACL2 all                                                 151451714      +   \n",
       "AADAT   ENST00000337664.4                                   171011117      -   \n",
       "        ENST00000337664.4,ENST00000509167.1,ENST0000035...  171011284      -   \n",
       "        ENST00000509167.1,ENST00000515480.1,ENST0000035...  171011424      -   \n",
       "AAED1   all                                                  99417562      -   \n",
       "\n",
       "                                                           chromosome  \n",
       "gene    transcripts                                                    \n",
       "AADACL2 all                                                      chr3  \n",
       "AADAT   ENST00000337664.4                                        chr4  \n",
       "        ENST00000337664.4,ENST00000509167.1,ENST0000035...       chr4  \n",
       "        ENST00000509167.1,ENST00000515480.1,ENST0000035...       chr4  \n",
       "AAED1   all                                                      chr9  "
      ]
     },
     "execution_count": 12,
     "metadata": {},
     "output_type": "execute_result"
    }
   ],
   "source": [
    "#you can supply any table of gene transcription start sites formatted as below\n",
    "#for demonstration purposes, the rest of this walkthrough will use a small arbitrary subset of the protein coding TSS table\n",
    "tssTable_new = tssTable.iloc[10:20, :-1]\n",
    "tssTable_new.head()"
   ]
  },
  {
   "cell_type": "code",
   "execution_count": 13,
   "metadata": {
    "collapsed": false
   },
   "outputs": [
    {
     "name": "stdout",
     "output_type": "stream",
     "text": [
      "Loading annotation file...Done\n"
     ]
    }
   ],
   "source": [
    "#if desired, use the ensembl annotation and the HGNC database to supply gene aliases to assist P1P2 matching in the next step\n",
    "gencodeData = loadGencodeData('large_data_files/gencode.v19.annotation.gtf')\n",
    "geneToAliases = generateAliasDict('large_data_files/20150424_HGNC_symbols.txt',gencodeData)"
   ]
  },
  {
   "cell_type": "code",
   "execution_count": 14,
   "metadata": {
    "collapsed": false
   },
   "outputs": [],
   "source": [
    "#Now create a TSS annotation by searching for P1 and P2 peaks near annotated TSSs\n",
    "#same parameters as for our lncRNA libraries\n",
    "p1p2Table_new = generateTssTable_P1P2strategy(tssTable_new, 'large_data_files/TSS_human.sorted.bed.gz', \n",
    "                                                  matchedp1p2Window = 30000, #region around supplied TSS annotation to search for a FANTOM P1 or P2 peak that matches the gene name (or alias)\n",
    "                                                  anyp1p2Window = 500, #region around supplied TSS annotation to search for the nearest P1 or P2 peak\n",
    "                                                  anyPeakWindow = 200, #region around supplied TSS annotation to search for any CAGE peak\n",
    "                                                  minDistanceForTwoTSS = 1000, #If a P1 and P2 peak are found, maximum distance at which to combine into a single annotation (with primary/secondary TSS positions)\n",
    "                                                  aliasDict = geneToAliases[0])\n",
    "#the function will report some collisions of IDs due to use of aliases and redundancy in genome, but will resolve these itself"
   ]
  },
  {
   "cell_type": "code",
   "execution_count": 15,
   "metadata": {
    "collapsed": false
   },
   "outputs": [
    {
     "data": {
      "text/html": [
       "<div>\n",
       "<table border=\"1\" class=\"dataframe\">\n",
       "  <thead>\n",
       "    <tr style=\"text-align: right;\">\n",
       "      <th></th>\n",
       "      <th></th>\n",
       "      <th>chromosome</th>\n",
       "      <th>strand</th>\n",
       "      <th>TSS source</th>\n",
       "      <th>primary TSS</th>\n",
       "      <th>secondary TSS</th>\n",
       "    </tr>\n",
       "    <tr>\n",
       "      <th>gene</th>\n",
       "      <th>transcript</th>\n",
       "      <th></th>\n",
       "      <th></th>\n",
       "      <th></th>\n",
       "      <th></th>\n",
       "      <th></th>\n",
       "    </tr>\n",
       "  </thead>\n",
       "  <tbody>\n",
       "    <tr>\n",
       "      <th>AADACL2</th>\n",
       "      <th>P1P2</th>\n",
       "      <td>chr3</td>\n",
       "      <td>+</td>\n",
       "      <td>CAGE, matched peaks</td>\n",
       "      <td>(151451707, 151451722)</td>\n",
       "      <td>(151451707, 151451722)</td>\n",
       "    </tr>\n",
       "    <tr>\n",
       "      <th>AADAT</th>\n",
       "      <th>P1P2</th>\n",
       "      <td>chr4</td>\n",
       "      <td>-</td>\n",
       "      <td>CAGE, matched peaks</td>\n",
       "      <td>(171011323, 171011408)</td>\n",
       "      <td>(171011084, 171011147)</td>\n",
       "    </tr>\n",
       "    <tr>\n",
       "      <th>AAED1</th>\n",
       "      <th>P1P2</th>\n",
       "      <td>chr9</td>\n",
       "      <td>-</td>\n",
       "      <td>CAGE, matched peaks</td>\n",
       "      <td>(99417562, 99417609)</td>\n",
       "      <td>(99417615, 99417622)</td>\n",
       "    </tr>\n",
       "    <tr>\n",
       "      <th>AAGAB</th>\n",
       "      <th>P1P2</th>\n",
       "      <td>chr15</td>\n",
       "      <td>-</td>\n",
       "      <td>CAGE, matched peaks</td>\n",
       "      <td>(67546963, 67547024)</td>\n",
       "      <td>(67546963, 67547024)</td>\n",
       "    </tr>\n",
       "    <tr>\n",
       "      <th>AAK1</th>\n",
       "      <th>P1P2</th>\n",
       "      <td>chr2</td>\n",
       "      <td>-</td>\n",
       "      <td>CAGE, matched peaks</td>\n",
       "      <td>(69870747, 69870812)</td>\n",
       "      <td>(69870854, 69870878)</td>\n",
       "    </tr>\n",
       "  </tbody>\n",
       "</table>\n",
       "</div>"
      ],
      "text/plain": [
       "                   chromosome strand           TSS source  \\\n",
       "gene    transcript                                          \n",
       "AADACL2 P1P2             chr3      +  CAGE, matched peaks   \n",
       "AADAT   P1P2             chr4      -  CAGE, matched peaks   \n",
       "AAED1   P1P2             chr9      -  CAGE, matched peaks   \n",
       "AAGAB   P1P2            chr15      -  CAGE, matched peaks   \n",
       "AAK1    P1P2             chr2      -  CAGE, matched peaks   \n",
       "\n",
       "                               primary TSS           secondary TSS  \n",
       "gene    transcript                                                  \n",
       "AADACL2 P1P2        (151451707, 151451722)  (151451707, 151451722)  \n",
       "AADAT   P1P2        (171011323, 171011408)  (171011084, 171011147)  \n",
       "AAED1   P1P2          (99417562, 99417609)    (99417615, 99417622)  \n",
       "AAGAB   P1P2          (67546963, 67547024)    (67546963, 67547024)  \n",
       "AAK1    P1P2          (69870747, 69870812)    (69870854, 69870878)  "
      ]
     },
     "execution_count": 15,
     "metadata": {},
     "output_type": "execute_result"
    }
   ],
   "source": [
    "p1p2Table_new.head()"
   ]
  },
  {
   "cell_type": "code",
   "execution_count": 16,
   "metadata": {
    "collapsed": false
   },
   "outputs": [
    {
     "data": {
      "text/html": [
       "<div>\n",
       "<table border=\"1\" class=\"dataframe\">\n",
       "  <thead>\n",
       "    <tr style=\"text-align: right;\">\n",
       "      <th></th>\n",
       "      <th>primary TSS</th>\n",
       "    </tr>\n",
       "    <tr>\n",
       "      <th>TSS source</th>\n",
       "      <th></th>\n",
       "    </tr>\n",
       "  </thead>\n",
       "  <tbody>\n",
       "    <tr>\n",
       "      <th>CAGE, matched peaks</th>\n",
       "      <td>8</td>\n",
       "    </tr>\n",
       "  </tbody>\n",
       "</table>\n",
       "</div>"
      ],
      "text/plain": [
       "                     primary TSS\n",
       "TSS source                      \n",
       "CAGE, matched peaks            8"
      ]
     },
     "execution_count": 16,
     "metadata": {},
     "output_type": "execute_result"
    }
   ],
   "source": [
    "p1p2Table_new.groupby('TSS source').agg(len).iloc[:,[2]]"
   ]
  },
  {
   "cell_type": "code",
   "execution_count": 17,
   "metadata": {
    "collapsed": false
   },
   "outputs": [
    {
     "data": {
      "text/plain": [
       "8"
      ]
     },
     "execution_count": 17,
     "metadata": {},
     "output_type": "execute_result"
    }
   ],
   "source": [
    "len(p1p2Table_new)"
   ]
  },
  {
   "cell_type": "code",
   "execution_count": null,
   "metadata": {
    "collapsed": true
   },
   "outputs": [],
   "source": [
    "#save tables\n",
    "tssTable_alllncs.to_csv(TSS_TABLE_PATH,sep='\\t', index_col=range(2))\n",
    "p1p2Table_alllncs.to_csv(P1P2_TABLE_PATH,sep='\\t', header=0, index_col=range(2))"
   ]
  },
  {
   "cell_type": "markdown",
   "metadata": {},
   "source": [
    "## Find all sgRNAs in genomic regions of interest "
   ]
  },
  {
   "cell_type": "code",
   "execution_count": 18,
   "metadata": {
    "collapsed": true
   },
   "outputs": [],
   "source": [
    "libraryTable_new, sgInfoTable_new = findAllGuides(p1p2Table_new, genomeDict, \n",
    "                                                  (-25,500)) #region around P1P2 TSSs to search for new sgRNAs; recommend -550,-25 for CRISPRa"
   ]
  },
  {
   "cell_type": "code",
   "execution_count": 19,
   "metadata": {
    "collapsed": false
   },
   "outputs": [
    {
     "data": {
      "text/plain": [
       "1125"
      ]
     },
     "execution_count": 19,
     "metadata": {},
     "output_type": "execute_result"
    }
   ],
   "source": [
    "len(libraryTable_new)"
   ]
  },
  {
   "cell_type": "code",
   "execution_count": 20,
   "metadata": {
    "collapsed": false
   },
   "outputs": [
    {
     "data": {
      "text/html": [
       "<div>\n",
       "<table border=\"1\" class=\"dataframe\">\n",
       "  <thead>\n",
       "    <tr style=\"text-align: right;\">\n",
       "      <th></th>\n",
       "      <th>gene</th>\n",
       "      <th>transcripts</th>\n",
       "      <th>sequence</th>\n",
       "      <th>genomic sequence</th>\n",
       "    </tr>\n",
       "    <tr>\n",
       "      <th>sgId</th>\n",
       "      <th></th>\n",
       "      <th></th>\n",
       "      <th></th>\n",
       "      <th></th>\n",
       "    </tr>\n",
       "  </thead>\n",
       "  <tbody>\n",
       "    <tr>\n",
       "      <th>AADACL2_+_151451720.23-P1P2</th>\n",
       "      <td>AADACL2</td>\n",
       "      <td>P1P2</td>\n",
       "      <td>GTAGACTTGGGAACTCTCTC</td>\n",
       "      <td>CCTGAGAGAGTTCCCAAGTCTAC</td>\n",
       "    </tr>\n",
       "    <tr>\n",
       "      <th>AADACL2_+_151451732.23-P1P2</th>\n",
       "      <td>AADACL2</td>\n",
       "      <td>P1P2</td>\n",
       "      <td>GGTAGAGCAATTGTAGACTT</td>\n",
       "      <td>CCCAAGTCTACAATTGCTCTACT</td>\n",
       "    </tr>\n",
       "    <tr>\n",
       "      <th>AADACL2_+_151451733.23-P1P2</th>\n",
       "      <td>AADACL2</td>\n",
       "      <td>P1P2</td>\n",
       "      <td>GAGTAGAGCAATTGTAGACT</td>\n",
       "      <td>CCAAGTCTACAATTGCTCTACTA</td>\n",
       "    </tr>\n",
       "    <tr>\n",
       "      <th>AADACL2_-_151451809.23-P1P2</th>\n",
       "      <td>AADACL2</td>\n",
       "      <td>P1P2</td>\n",
       "      <td>GCTCAGTACTGTGAAGAAGC</td>\n",
       "      <td>TCTCAGTACTGTGAAGAAGCTGG</td>\n",
       "    </tr>\n",
       "    <tr>\n",
       "      <th>AADACL2_-_151451816.23-P1P2</th>\n",
       "      <td>AADACL2</td>\n",
       "      <td>P1P2</td>\n",
       "      <td>GCTGTGAAGAAGCTGGAAAA</td>\n",
       "      <td>ACTGTGAAGAAGCTGGAAAAAGG</td>\n",
       "    </tr>\n",
       "  </tbody>\n",
       "</table>\n",
       "</div>"
      ],
      "text/plain": [
       "                                gene transcripts              sequence  \\\n",
       "sgId                                                                     \n",
       "AADACL2_+_151451720.23-P1P2  AADACL2        P1P2  GTAGACTTGGGAACTCTCTC   \n",
       "AADACL2_+_151451732.23-P1P2  AADACL2        P1P2  GGTAGAGCAATTGTAGACTT   \n",
       "AADACL2_+_151451733.23-P1P2  AADACL2        P1P2  GAGTAGAGCAATTGTAGACT   \n",
       "AADACL2_-_151451809.23-P1P2  AADACL2        P1P2  GCTCAGTACTGTGAAGAAGC   \n",
       "AADACL2_-_151451816.23-P1P2  AADACL2        P1P2  GCTGTGAAGAAGCTGGAAAA   \n",
       "\n",
       "                                    genomic sequence  \n",
       "sgId                                                  \n",
       "AADACL2_+_151451720.23-P1P2  CCTGAGAGAGTTCCCAAGTCTAC  \n",
       "AADACL2_+_151451732.23-P1P2  CCCAAGTCTACAATTGCTCTACT  \n",
       "AADACL2_+_151451733.23-P1P2  CCAAGTCTACAATTGCTCTACTA  \n",
       "AADACL2_-_151451809.23-P1P2  TCTCAGTACTGTGAAGAAGCTGG  \n",
       "AADACL2_-_151451816.23-P1P2  ACTGTGAAGAAGCTGGAAAAAGG  "
      ]
     },
     "execution_count": 20,
     "metadata": {},
     "output_type": "execute_result"
    }
   ],
   "source": [
    "libraryTable_new.head()"
   ]
  },
  {
   "cell_type": "markdown",
   "metadata": {},
   "source": [
    "## Predicting sgRNA activity"
   ]
  },
  {
   "cell_type": "code",
   "execution_count": 21,
   "metadata": {
    "collapsed": false
   },
   "outputs": [
    {
     "name": "stdout",
     "output_type": "stream",
     "text": [
      ".....Done!"
     ]
    }
   ],
   "source": [
    "#calculate parameters for new sgRNAs\n",
    "paramTable_new = generateTypicalParamTable(libraryTable_new, sgInfoTable_new, tssTable_new, p1p2Table_new, genomeDict, bwhandleDict)"
   ]
  },
  {
   "cell_type": "code",
   "execution_count": 22,
   "metadata": {
    "collapsed": false
   },
   "outputs": [
    {
     "data": {
      "text/html": [
       "<div>\n",
       "<table border=\"1\" class=\"dataframe\">\n",
       "  <thead>\n",
       "    <tr>\n",
       "      <th></th>\n",
       "      <th>length</th>\n",
       "      <th colspan=\"4\" halign=\"left\">distance</th>\n",
       "      <th colspan=\"4\" halign=\"left\">homopolymers</th>\n",
       "      <th>base fractions</th>\n",
       "      <th>...</th>\n",
       "      <th colspan=\"10\" halign=\"left\">RNA folding-pairing, no scaffold</th>\n",
       "    </tr>\n",
       "    <tr>\n",
       "      <th></th>\n",
       "      <th>length</th>\n",
       "      <th>primary TSS-Up</th>\n",
       "      <th>primary TSS-Down</th>\n",
       "      <th>secondary TSS-Up</th>\n",
       "      <th>secondary TSS-Down</th>\n",
       "      <th>A</th>\n",
       "      <th>G</th>\n",
       "      <th>C</th>\n",
       "      <th>T</th>\n",
       "      <th>A</th>\n",
       "      <th>...</th>\n",
       "      <th>-12</th>\n",
       "      <th>-11</th>\n",
       "      <th>-10</th>\n",
       "      <th>-9</th>\n",
       "      <th>-8</th>\n",
       "      <th>-7</th>\n",
       "      <th>-6</th>\n",
       "      <th>-5</th>\n",
       "      <th>-4</th>\n",
       "      <th>-3</th>\n",
       "    </tr>\n",
       "    <tr>\n",
       "      <th>sgId</th>\n",
       "      <th></th>\n",
       "      <th></th>\n",
       "      <th></th>\n",
       "      <th></th>\n",
       "      <th></th>\n",
       "      <th></th>\n",
       "      <th></th>\n",
       "      <th></th>\n",
       "      <th></th>\n",
       "      <th></th>\n",
       "      <th></th>\n",
       "      <th></th>\n",
       "      <th></th>\n",
       "      <th></th>\n",
       "      <th></th>\n",
       "      <th></th>\n",
       "      <th></th>\n",
       "      <th></th>\n",
       "      <th></th>\n",
       "      <th></th>\n",
       "      <th></th>\n",
       "    </tr>\n",
       "  </thead>\n",
       "  <tbody>\n",
       "    <tr>\n",
       "      <th>AADACL2_+_151451720.23-P1P2</th>\n",
       "      <td>20</td>\n",
       "      <td>13</td>\n",
       "      <td>-2</td>\n",
       "      <td>13</td>\n",
       "      <td>-2</td>\n",
       "      <td>2</td>\n",
       "      <td>3</td>\n",
       "      <td>1</td>\n",
       "      <td>2</td>\n",
       "      <td>0.20</td>\n",
       "      <td>...</td>\n",
       "      <td>True</td>\n",
       "      <td>True</td>\n",
       "      <td>False</td>\n",
       "      <td>False</td>\n",
       "      <td>False</td>\n",
       "      <td>False</td>\n",
       "      <td>True</td>\n",
       "      <td>True</td>\n",
       "      <td>True</td>\n",
       "      <td>True</td>\n",
       "    </tr>\n",
       "    <tr>\n",
       "      <th>AADACL2_+_151451732.23-P1P2</th>\n",
       "      <td>20</td>\n",
       "      <td>25</td>\n",
       "      <td>10</td>\n",
       "      <td>25</td>\n",
       "      <td>10</td>\n",
       "      <td>2</td>\n",
       "      <td>2</td>\n",
       "      <td>1</td>\n",
       "      <td>2</td>\n",
       "      <td>0.30</td>\n",
       "      <td>...</td>\n",
       "      <td>False</td>\n",
       "      <td>False</td>\n",
       "      <td>False</td>\n",
       "      <td>False</td>\n",
       "      <td>False</td>\n",
       "      <td>False</td>\n",
       "      <td>False</td>\n",
       "      <td>False</td>\n",
       "      <td>False</td>\n",
       "      <td>False</td>\n",
       "    </tr>\n",
       "    <tr>\n",
       "      <th>AADACL2_+_151451733.23-P1P2</th>\n",
       "      <td>20</td>\n",
       "      <td>26</td>\n",
       "      <td>11</td>\n",
       "      <td>26</td>\n",
       "      <td>11</td>\n",
       "      <td>2</td>\n",
       "      <td>1</td>\n",
       "      <td>1</td>\n",
       "      <td>2</td>\n",
       "      <td>0.35</td>\n",
       "      <td>...</td>\n",
       "      <td>False</td>\n",
       "      <td>False</td>\n",
       "      <td>False</td>\n",
       "      <td>False</td>\n",
       "      <td>False</td>\n",
       "      <td>False</td>\n",
       "      <td>False</td>\n",
       "      <td>False</td>\n",
       "      <td>False</td>\n",
       "      <td>False</td>\n",
       "    </tr>\n",
       "    <tr>\n",
       "      <th>AADACL2_-_151451809.23-P1P2</th>\n",
       "      <td>20</td>\n",
       "      <td>102</td>\n",
       "      <td>87</td>\n",
       "      <td>102</td>\n",
       "      <td>87</td>\n",
       "      <td>2</td>\n",
       "      <td>1</td>\n",
       "      <td>1</td>\n",
       "      <td>1</td>\n",
       "      <td>0.30</td>\n",
       "      <td>...</td>\n",
       "      <td>False</td>\n",
       "      <td>True</td>\n",
       "      <td>True</td>\n",
       "      <td>True</td>\n",
       "      <td>False</td>\n",
       "      <td>False</td>\n",
       "      <td>False</td>\n",
       "      <td>False</td>\n",
       "      <td>False</td>\n",
       "      <td>False</td>\n",
       "    </tr>\n",
       "    <tr>\n",
       "      <th>AADACL2_-_151451816.23-P1P2</th>\n",
       "      <td>20</td>\n",
       "      <td>109</td>\n",
       "      <td>94</td>\n",
       "      <td>109</td>\n",
       "      <td>94</td>\n",
       "      <td>4</td>\n",
       "      <td>2</td>\n",
       "      <td>1</td>\n",
       "      <td>1</td>\n",
       "      <td>0.40</td>\n",
       "      <td>...</td>\n",
       "      <td>True</td>\n",
       "      <td>True</td>\n",
       "      <td>True</td>\n",
       "      <td>False</td>\n",
       "      <td>False</td>\n",
       "      <td>False</td>\n",
       "      <td>False</td>\n",
       "      <td>False</td>\n",
       "      <td>False</td>\n",
       "      <td>False</td>\n",
       "    </tr>\n",
       "  </tbody>\n",
       "</table>\n",
       "<p>5 rows × 808 columns</p>\n",
       "</div>"
      ],
      "text/plain": [
       "                            length       distance                   \\\n",
       "                            length primary TSS-Up primary TSS-Down   \n",
       "sgId                                                                 \n",
       "AADACL2_+_151451720.23-P1P2     20             13               -2   \n",
       "AADACL2_+_151451732.23-P1P2     20             25               10   \n",
       "AADACL2_+_151451733.23-P1P2     20             26               11   \n",
       "AADACL2_-_151451809.23-P1P2     20            102               87   \n",
       "AADACL2_-_151451816.23-P1P2     20            109               94   \n",
       "\n",
       "                                                                homopolymers  \\\n",
       "                            secondary TSS-Up secondary TSS-Down            A   \n",
       "sgId                                                                           \n",
       "AADACL2_+_151451720.23-P1P2               13                 -2            2   \n",
       "AADACL2_+_151451732.23-P1P2               25                 10            2   \n",
       "AADACL2_+_151451733.23-P1P2               26                 11            2   \n",
       "AADACL2_-_151451809.23-P1P2              102                 87            2   \n",
       "AADACL2_-_151451816.23-P1P2              109                 94            4   \n",
       "\n",
       "                                     base fractions  ...    \\\n",
       "                             G  C  T              A  ...     \n",
       "sgId                                                 ...     \n",
       "AADACL2_+_151451720.23-P1P2  3  1  2           0.20  ...     \n",
       "AADACL2_+_151451732.23-P1P2  2  1  2           0.30  ...     \n",
       "AADACL2_+_151451733.23-P1P2  1  1  2           0.35  ...     \n",
       "AADACL2_-_151451809.23-P1P2  1  1  1           0.30  ...     \n",
       "AADACL2_-_151451816.23-P1P2  2  1  1           0.40  ...     \n",
       "\n",
       "                            RNA folding-pairing, no scaffold                \\\n",
       "                                                         -12    -11    -10   \n",
       "sgId                                                                         \n",
       "AADACL2_+_151451720.23-P1P2                             True   True  False   \n",
       "AADACL2_+_151451732.23-P1P2                            False  False  False   \n",
       "AADACL2_+_151451733.23-P1P2                            False  False  False   \n",
       "AADACL2_-_151451809.23-P1P2                            False   True   True   \n",
       "AADACL2_-_151451816.23-P1P2                             True   True   True   \n",
       "\n",
       "                                                                              \n",
       "                                -9     -8     -7     -6     -5     -4     -3  \n",
       "sgId                                                                          \n",
       "AADACL2_+_151451720.23-P1P2  False  False  False   True   True   True   True  \n",
       "AADACL2_+_151451732.23-P1P2  False  False  False  False  False  False  False  \n",
       "AADACL2_+_151451733.23-P1P2  False  False  False  False  False  False  False  \n",
       "AADACL2_-_151451809.23-P1P2   True  False  False  False  False  False  False  \n",
       "AADACL2_-_151451816.23-P1P2  False  False  False  False  False  False  False  \n",
       "\n",
       "[5 rows x 808 columns]"
      ]
     },
     "execution_count": 22,
     "metadata": {},
     "output_type": "execute_result"
    }
   ],
   "source": [
    "paramTable_new.head()"
   ]
  },
  {
   "cell_type": "code",
   "execution_count": null,
   "metadata": {
    "collapsed": true
   },
   "outputs": [],
   "source": [
    "#if starting from a separate session from where you ran the sgRNA learning steps of Part 1, reload the following\n",
    "import cPickle\n",
    "with open(PICKLE_FILE) as infile:\n",
    "    fitTable, estimators, scaler, reg = cPickle.load(infile)\n",
    "    \n",
    "transformedParams_train = pd.read_csv(TRANSFORMED_PARAM_HEADER,sep='\\t')"
   ]
  },
  {
   "cell_type": "code",
   "execution_count": 23,
   "metadata": {
    "collapsed": false
   },
   "outputs": [],
   "source": [
    "#transform and predict scores according to sgRNA prediction model\n",
    "transformedParams_new = transformParams(paramTable_new, fitTable, estimators)\n",
    "\n",
    "#reconcile any differences in column headers generated by automated binning\n",
    "colTups = []\n",
    "for (l1, l2), col in transformedParams_new.iteritems():\n",
    "    colTups.append((l1,str(l2)))\n",
    "transformedParams_new.columns = pd.MultiIndex.from_tuples(colTups)\n",
    "\n",
    "predictedScores_new = pd.Series(reg.predict(scaler.transform(transformedParams_new.loc[:, transformedParams_train.columns].fillna(0).values)), index=transformedParams_new.index)"
   ]
  },
  {
   "cell_type": "code",
   "execution_count": 24,
   "metadata": {
    "collapsed": false
   },
   "outputs": [
    {
     "data": {
      "text/plain": [
       "sgId\n",
       "AADACL2_+_151451720.23-P1P2    0.641245\n",
       "AADACL2_+_151451732.23-P1P2    0.693926\n",
       "AADACL2_+_151451733.23-P1P2    0.655759\n",
       "AADACL2_-_151451809.23-P1P2    0.500835\n",
       "AADACL2_-_151451816.23-P1P2    0.434376\n",
       "dtype: float64"
      ]
     },
     "execution_count": 24,
     "metadata": {},
     "output_type": "execute_result"
    }
   ],
   "source": [
    "predictedScores_new.head()"
   ]
  },
  {
   "cell_type": "code",
   "execution_count": null,
   "metadata": {
    "collapsed": true
   },
   "outputs": [],
   "source": [
    "libraryTable_new.to_csv(LIBRARY_TABLE_PATH,sep='\\t')\n",
    "sgInfoTable_new.to_csv(sgRNA_INFO_PATH,sep='\\t')\n",
    "predictedScores_new.to_csv(PREDICTED_SCORES_PATH, sep='\\t')"
   ]
  },
  {
   "cell_type": "markdown",
   "metadata": {},
   "source": [
    "# 3. Construct sgRNA libraries\n",
    "## Score sgRNAs for off-target potential"
   ]
  },
  {
   "cell_type": "markdown",
   "metadata": {
    "collapsed": true
   },
   "source": [
    "### There are many ways to score sgRNAs as off-target; below is one listed one method that is simple and flexible, but ignores gapped alignments, alternate PAMs, and uses bowtie which may not be maximally sensitive in all cases"
   ]
  },
  {
   "cell_type": "code",
   "execution_count": 27,
   "metadata": {
    "collapsed": true
   },
   "outputs": [],
   "source": [
    "!mkdir temp_bowtie_files"
   ]
  },
  {
   "cell_type": "code",
   "execution_count": 28,
   "metadata": {
    "collapsed": true
   },
   "outputs": [],
   "source": [
    "#output all sequences to a temporary FASTQ file for running bowtie alignment\n",
    "fqFile = 'temp_bowtie_files/bowtie_input.fq'\n",
    "\n",
    "def outputTempBowtieFastq(libraryTable, outputFileName):\n",
    "    phredString = 'I4!=======44444+++++++' #weighting for how impactful mismatches are along sgRNA sequence \n",
    "    with open(outputFileName,'w') as outfile:\n",
    "        for name, row in libraryTable.iterrows():\n",
    "            outfile.write('@' + name + '\\n')\n",
    "            outfile.write('CCN' + str(Seq.Seq(row['sequence'][1:]).reverse_complement()) + '\\n')\n",
    "            outfile.write('+\\n')\n",
    "            outfile.write(phredString + '\\n')\n",
    "            \n",
    "outputTempBowtieFastq(libraryTable_new, fqFile)"
   ]
  },
  {
   "cell_type": "code",
   "execution_count": 29,
   "metadata": {
    "collapsed": false
   },
   "outputs": [
    {
     "name": "stdout",
     "output_type": "stream",
     "text": [
      "bowtie -n 3 -l 15 -e 39 -m 1 --nomaqround -a --tryhard -p 16 --chunkmbs 256 large_data_files/hg19.ensemblTSSflank500b --suppress 5,6,7 --un temp_bowtie_files/39_nearTSS_unaligned.fq --max temp_bowtie_files/39_nearTSS_max.fq  -q temp_bowtie_files/bowtie_input.fq temp_bowtie_files/39_nearTSS_aligned.txt\n",
      "0\n",
      "bowtie -n 3 -l 15 -e 31 -m 1 --nomaqround -a --tryhard -p 16 --chunkmbs 256 large_data_files/hg19.ensemblTSSflank500b --suppress 5,6,7 --un temp_bowtie_files/31_nearTSS_unaligned.fq --max temp_bowtie_files/31_nearTSS_max.fq  -q temp_bowtie_files/bowtie_input.fq temp_bowtie_files/31_nearTSS_aligned.txt\n",
      "0\n",
      "bowtie -n 3 -l 15 -e 21 -m 1 --nomaqround -a --tryhard -p 16 --chunkmbs 256 large_data_files/hg19_maskChrMandPAR --suppress 5,6,7 --un temp_bowtie_files/21_genome_unaligned.fq --max temp_bowtie_files/21_genome_max.fq  -q temp_bowtie_files/bowtie_input.fq temp_bowtie_files/21_genome_aligned.txt\n",
      "0\n",
      "bowtie -n 3 -l 15 -e 31 -m 2 --nomaqround -a --tryhard -p 16 --chunkmbs 256 large_data_files/hg19.ensemblTSSflank500b --suppress 5,6,7 --un temp_bowtie_files/31_2_nearTSS_unaligned.fq --max temp_bowtie_files/31_2_nearTSS_max.fq  -q temp_bowtie_files/bowtie_input.fq temp_bowtie_files/31_2_nearTSS_aligned.txt\n",
      "0\n",
      "bowtie -n 3 -l 15 -e 31 -m 3 --nomaqround -a --tryhard -p 16 --chunkmbs 256 large_data_files/hg19.ensemblTSSflank500b --suppress 5,6,7 --un temp_bowtie_files/31_3_nearTSS_unaligned.fq --max temp_bowtie_files/31_3_nearTSS_max.fq  -q temp_bowtie_files/bowtie_input.fq temp_bowtie_files/31_3_nearTSS_aligned.txt\n",
      "0\n"
     ]
    }
   ],
   "source": [
    "import subprocess\n",
    "\n",
    "#specifying a list of parameters to run bowtie with\n",
    "#each tuple contains\n",
    "# *the mismatch threshold below which a site is considered a potential off-target (higher is more stringent)\n",
    "# *the number of sites allowed (1 is minimum since each sgRNA should have one true site in genome)\n",
    "# *the genome index against which to align the sgRNA sequences; these can be custom built to only consider sites near TSSs\n",
    "# *a name for the bowtie run to create appropriately named output files\n",
    "alignmentList = [(39,1,'large_data_files/hg19.ensemblTSSflank500b','39_nearTSS'),\n",
    "                (31,1,'large_data_files/hg19.ensemblTSSflank500b','31_nearTSS'),\n",
    "                (21,1,'large_data_files/hg19_maskChrMandPAR','21_genome'),\n",
    "                (31,2,'large_data_files/hg19.ensemblTSSflank500b','31_2_nearTSS'),\n",
    "                (31,3,'large_data_files/hg19.ensemblTSSflank500b','31_3_nearTSS')]\n",
    "\n",
    "alignmentColumns = []\n",
    "for btThreshold, mflag, bowtieIndex, runname in alignmentList:\n",
    "\n",
    "    alignedFile = 'temp_bowtie_files/' + runname + '_aligned.txt'\n",
    "    unalignedFile = 'temp_bowtie_files/' + runname + '_unaligned.fq'\n",
    "    maxFile = 'temp_bowtie_files/' + runname + '_max.fq'\n",
    "    \n",
    "    bowtieString = 'bowtie -n 3 -l 15 -e '+str(btThreshold)+' -m ' + str(mflag) + ' --nomaqround -a --tryhard -p 16 --chunkmbs 256 ' + bowtieIndex + ' --suppress 5,6,7 --un ' + unalignedFile + ' --max ' + maxFile + ' '+ ' -q '+fqFile+' '+ alignedFile\n",
    "    print bowtieString\n",
    "    print subprocess.call(bowtieString, shell=True) #0 means finished without errors\n",
    "\n",
    "    #parse through the file of sgRNAs that exceeded \"m\", the maximum allowable alignments, and mark \"True\" any that are found\n",
    "    try:\n",
    "        with open(maxFile) as infile:\n",
    "            sgsAligning = set()\n",
    "            for i, line in enumerate(infile):\n",
    "                if i%4 == 0: #id line\n",
    "                    sgsAligning.add(line.strip()[1:])\n",
    "    except IOError: #no sgRNAs exceeded m, so no maxFile created\n",
    "        sgsAligning = set()\n",
    "                    \n",
    "    alignmentColumns.append(libraryTable_new.apply(lambda row: row.name in sgsAligning, axis=1))\n",
    "    \n",
    "#collate results into a table, and flip the boolean values to yield the sgRNAs that passed filter as True\n",
    "alignmentTable = pd.concat(alignmentColumns,axis=1, keys=zip(*alignmentList)[3]).ne(True)"
   ]
  },
  {
   "cell_type": "code",
   "execution_count": 30,
   "metadata": {
    "collapsed": false
   },
   "outputs": [
    {
     "data": {
      "text/html": [
       "<div>\n",
       "<table border=\"1\" class=\"dataframe\">\n",
       "  <thead>\n",
       "    <tr style=\"text-align: right;\">\n",
       "      <th></th>\n",
       "      <th>39_nearTSS</th>\n",
       "      <th>31_nearTSS</th>\n",
       "      <th>21_genome</th>\n",
       "      <th>31_2_nearTSS</th>\n",
       "      <th>31_3_nearTSS</th>\n",
       "    </tr>\n",
       "    <tr>\n",
       "      <th>sgId</th>\n",
       "      <th></th>\n",
       "      <th></th>\n",
       "      <th></th>\n",
       "      <th></th>\n",
       "      <th></th>\n",
       "    </tr>\n",
       "  </thead>\n",
       "  <tbody>\n",
       "    <tr>\n",
       "      <th>AADACL2_+_151451720.23-P1P2</th>\n",
       "      <td>True</td>\n",
       "      <td>True</td>\n",
       "      <td>False</td>\n",
       "      <td>True</td>\n",
       "      <td>True</td>\n",
       "    </tr>\n",
       "    <tr>\n",
       "      <th>AADACL2_+_151451732.23-P1P2</th>\n",
       "      <td>True</td>\n",
       "      <td>True</td>\n",
       "      <td>True</td>\n",
       "      <td>True</td>\n",
       "      <td>True</td>\n",
       "    </tr>\n",
       "    <tr>\n",
       "      <th>AADACL2_+_151451733.23-P1P2</th>\n",
       "      <td>True</td>\n",
       "      <td>True</td>\n",
       "      <td>True</td>\n",
       "      <td>True</td>\n",
       "      <td>True</td>\n",
       "    </tr>\n",
       "    <tr>\n",
       "      <th>AADACL2_-_151451809.23-P1P2</th>\n",
       "      <td>False</td>\n",
       "      <td>True</td>\n",
       "      <td>False</td>\n",
       "      <td>True</td>\n",
       "      <td>True</td>\n",
       "    </tr>\n",
       "    <tr>\n",
       "      <th>AADACL2_-_151451816.23-P1P2</th>\n",
       "      <td>True</td>\n",
       "      <td>True</td>\n",
       "      <td>False</td>\n",
       "      <td>True</td>\n",
       "      <td>True</td>\n",
       "    </tr>\n",
       "  </tbody>\n",
       "</table>\n",
       "</div>"
      ],
      "text/plain": [
       "                            39_nearTSS 31_nearTSS 21_genome 31_2_nearTSS  \\\n",
       "sgId                                                                       \n",
       "AADACL2_+_151451720.23-P1P2       True       True     False         True   \n",
       "AADACL2_+_151451732.23-P1P2       True       True      True         True   \n",
       "AADACL2_+_151451733.23-P1P2       True       True      True         True   \n",
       "AADACL2_-_151451809.23-P1P2      False       True     False         True   \n",
       "AADACL2_-_151451816.23-P1P2       True       True     False         True   \n",
       "\n",
       "                            31_3_nearTSS  \n",
       "sgId                                      \n",
       "AADACL2_+_151451720.23-P1P2         True  \n",
       "AADACL2_+_151451732.23-P1P2         True  \n",
       "AADACL2_+_151451733.23-P1P2         True  \n",
       "AADACL2_-_151451809.23-P1P2         True  \n",
       "AADACL2_-_151451816.23-P1P2         True  "
      ]
     },
     "execution_count": 30,
     "metadata": {},
     "output_type": "execute_result"
    }
   ],
   "source": [
    "alignmentTable.head() #True = passed threshold"
   ]
  },
  {
   "cell_type": "markdown",
   "metadata": {},
   "source": [
    "## Pick the top sgRNAs for a library, given predicted activity scores and off-target filtering"
   ]
  },
  {
   "cell_type": "code",
   "execution_count": 31,
   "metadata": {
    "collapsed": true
   },
   "outputs": [],
   "source": [
    "#combine all generated data into one master table\n",
    "predictedScores_new.name = 'predicted score'\n",
    "v2Table = pd.concat((libraryTable_new, predictedScores_new, alignmentTable, sgInfoTable_new), axis=1, keys=['library table v2', 'predicted score', 'off-target filters', 'sgRNA info'])"
   ]
  },
  {
   "cell_type": "code",
   "execution_count": 32,
   "metadata": {
    "collapsed": true
   },
   "outputs": [],
   "source": [
    "import re\n",
    "#for our pCRISPRi/a-v2 vector, we append flanking sequences to each sgRNA sequence for cloning and require the oligo to contain\n",
    "#exactly 1 BstXI and BlpI site each for cloning, and exactly 0 SbfI sites for sequencing sample preparation\n",
    "restrictionSites = {re.compile('CCA......TGG'):1,\n",
    "                   re.compile('GCT.AGC'):1,\n",
    "                   re.compile('CCTGCAGG'):0}\n",
    "\n",
    "def matchREsites(sequence, REdict):\n",
    "    seq = sequence.upper()\n",
    "    for resite, numMatchesExpected in restrictionSites.iteritems():\n",
    "        if len(resite.findall(seq)) != numMatchesExpected:\n",
    "            return False\n",
    "        \n",
    "    return True\n",
    "\n",
    "def checkOverlaps(leftPosition, acceptedLeftPositions, nonoverlapMin):\n",
    "    for pos in acceptedLeftPositions:\n",
    "        if abs(pos - leftPosition) < nonoverlapMin:\n",
    "            return False\n",
    "    return True"
   ]
  },
  {
   "cell_type": "code",
   "execution_count": 33,
   "metadata": {
    "collapsed": false
   },
   "outputs": [],
   "source": [
    "#flanking sequences\n",
    "upstreamConstant = 'CCACCTTGTTG'\n",
    "downstreamConstant = 'GTTTAAGAGCTAAGCTG'\n",
    "\n",
    "#minimum overlap between two sgRNAs targeting the same TSS\n",
    "nonoverlapMin = 3\n",
    "\n",
    "#number of sgRNAs to pick per gene/TSS\n",
    "sgRNAsToPick = 10\n",
    "\n",
    "#list of off-target filter (or combinations of filters) levels, matching the names in the alignment table above\n",
    "offTargetLevels = [['31_nearTSS', '21_genome'],\n",
    "                  ['31_nearTSS'],\n",
    "                  ['21_genome'],\n",
    "                  ['31_2_nearTSS'],\n",
    "                  ['31_3_nearTSS']]\n",
    "\n",
    "#for each gene/TSS, go through each sgRNA in descending order of predicted score\n",
    "#if an sgRNA passes the restriction site, overlap, and off-target filters, accept it into the library\n",
    "#if the number of sgRNAs accepted is less than sgRNAsToPick, reduce off-target stringency by one and continue\n",
    "v2Groups = v2Table.groupby([('library table v2','gene'),('library table v2','transcripts')])\n",
    "newSgIds = []\n",
    "unfinishedTss = []\n",
    "for (gene, transcript), group in v2Groups:\n",
    "    geneSgIds = []\n",
    "    geneLeftPositions = []\n",
    "    empiricalSgIds = dict()\n",
    "    \n",
    "    stringency = 0\n",
    "    \n",
    "    while len(geneSgIds) < sgRNAsToPick and stringency < len(offTargetLevels):\n",
    "        for sgId_v2, row in group.sort_values(('predicted score','predicted score'), ascending=False).iterrows():\n",
    "            oligoSeq = upstreamConstant + row[('library table v2','sequence')] + downstreamConstant\n",
    "            leftPos = row[('sgRNA info', 'position')] - (23 if row[('sgRNA info', 'strand')] == '-' else 0)\n",
    "            if len(geneSgIds) < sgRNAsToPick and row['off-target filters'].loc[offTargetLevels[stringency]].all() \\\n",
    "                and matchREsites(oligoSeq, restrictionSites) \\\n",
    "                and checkOverlaps(leftPos, geneLeftPositions, nonoverlapMin):\n",
    "                geneSgIds.append((sgId_v2,\n",
    "                                  gene,transcript,\n",
    "                                  row[('library table v2','sequence')], oligoSeq,\n",
    "                                  row[('predicted score','predicted score')], np.nan,\n",
    "                                 stringency))\n",
    "                geneLeftPositions.append(leftPos)\n",
    "                \n",
    "        stringency += 1\n",
    "            \n",
    "    if len(geneSgIds) < sgRNAsToPick:\n",
    "        unfinishedTss.append((gene, transcript)) #if the number of accepted sgRNAs is still less than sgRNAsToPick, discard gene\n",
    "    else:\n",
    "        newSgIds.extend(geneSgIds)\n",
    "        \n",
    "libraryTable_complete = pd.DataFrame(newSgIds, columns = ['sgID', 'gene', 'transcript','protospacer sequence', 'oligo sequence',\n",
    " 'predicted score', 'empirical score', 'off-target stringency']).set_index('sgID')"
   ]
  },
  {
   "cell_type": "code",
   "execution_count": 34,
   "metadata": {
    "collapsed": false
   },
   "outputs": [
    {
     "name": "stdout",
     "output_type": "stream",
     "text": [
      "80\n"
     ]
    }
   ],
   "source": [
    "print len(libraryTable_complete)"
   ]
  },
  {
   "cell_type": "code",
   "execution_count": 35,
   "metadata": {
    "collapsed": false
   },
   "outputs": [
    {
     "data": {
      "text/plain": [
       "off-target stringency\n",
       "0    80\n",
       "Name: gene, dtype: int64"
      ]
     },
     "execution_count": 35,
     "metadata": {},
     "output_type": "execute_result"
    }
   ],
   "source": [
    "#number of sgRNAs accepted at each stringency level\n",
    "libraryTable_complete.groupby('off-target stringency').agg(len).iloc[:,0]"
   ]
  },
  {
   "cell_type": "code",
   "execution_count": 36,
   "metadata": {
    "collapsed": false
   },
   "outputs": [
    {
     "name": "stdout",
     "output_type": "stream",
     "text": [
      "0\n"
     ]
    }
   ],
   "source": [
    "#number of TSSs with fewer than required number of sgRNAs (and thus not included in the library)\n",
    "print len(unfinishedTss)"
   ]
  },
  {
   "cell_type": "code",
   "execution_count": 37,
   "metadata": {
    "collapsed": false
   },
   "outputs": [
    {
     "data": {
      "text/html": [
       "<div>\n",
       "<table border=\"1\" class=\"dataframe\">\n",
       "  <thead>\n",
       "    <tr style=\"text-align: right;\">\n",
       "      <th></th>\n",
       "      <th>gene</th>\n",
       "      <th>transcript</th>\n",
       "      <th>protospacer sequence</th>\n",
       "      <th>oligo sequence</th>\n",
       "      <th>predicted score</th>\n",
       "      <th>empirical score</th>\n",
       "      <th>off-target stringency</th>\n",
       "    </tr>\n",
       "    <tr>\n",
       "      <th>sgID</th>\n",
       "      <th></th>\n",
       "      <th></th>\n",
       "      <th></th>\n",
       "      <th></th>\n",
       "      <th></th>\n",
       "      <th></th>\n",
       "      <th></th>\n",
       "    </tr>\n",
       "  </thead>\n",
       "  <tbody>\n",
       "    <tr>\n",
       "      <th>AADACL2_+_151451732.23-P1P2</th>\n",
       "      <td>AADACL2</td>\n",
       "      <td>P1P2</td>\n",
       "      <td>GGTAGAGCAATTGTAGACTT</td>\n",
       "      <td>CCACCTTGTTGGGTAGAGCAATTGTAGACTTGTTTAAGAGCTAAGCTG</td>\n",
       "      <td>0.693926</td>\n",
       "      <td>NaN</td>\n",
       "      <td>0</td>\n",
       "    </tr>\n",
       "    <tr>\n",
       "      <th>AADACL2_-_151452019.23-P1P2</th>\n",
       "      <td>AADACL2</td>\n",
       "      <td>P1P2</td>\n",
       "      <td>GATGACTTATTGACTAAAAA</td>\n",
       "      <td>CCACCTTGTTGGATGACTTATTGACTAAAAAGTTTAAGAGCTAAGCTG</td>\n",
       "      <td>0.451392</td>\n",
       "      <td>NaN</td>\n",
       "      <td>0</td>\n",
       "    </tr>\n",
       "    <tr>\n",
       "      <th>AADACL2_+_151452121.23-P1P2</th>\n",
       "      <td>AADACL2</td>\n",
       "      <td>P1P2</td>\n",
       "      <td>GACTGTTACTCACAGATATA</td>\n",
       "      <td>CCACCTTGTTGGACTGTTACTCACAGATATAGTTTAAGAGCTAAGCTG</td>\n",
       "      <td>0.426695</td>\n",
       "      <td>NaN</td>\n",
       "      <td>0</td>\n",
       "    </tr>\n",
       "    <tr>\n",
       "      <th>AADACL2_-_151451828.23-P1P2</th>\n",
       "      <td>AADACL2</td>\n",
       "      <td>P1P2</td>\n",
       "      <td>GTGGAAAAAGGGATATTATG</td>\n",
       "      <td>CCACCTTGTTGGTGGAAAAAGGGATATTATGGTTTAAGAGCTAAGCTG</td>\n",
       "      <td>0.404655</td>\n",
       "      <td>NaN</td>\n",
       "      <td>0</td>\n",
       "    </tr>\n",
       "    <tr>\n",
       "      <th>AADACL2_-_151451931.23-P1P2</th>\n",
       "      <td>AADACL2</td>\n",
       "      <td>P1P2</td>\n",
       "      <td>GAGCTGGAAAATAATGGCCT</td>\n",
       "      <td>CCACCTTGTTGGAGCTGGAAAATAATGGCCTGTTTAAGAGCTAAGCTG</td>\n",
       "      <td>0.404269</td>\n",
       "      <td>NaN</td>\n",
       "      <td>0</td>\n",
       "    </tr>\n",
       "  </tbody>\n",
       "</table>\n",
       "</div>"
      ],
      "text/plain": [
       "                                gene transcript  protospacer sequence  \\\n",
       "sgID                                                                    \n",
       "AADACL2_+_151451732.23-P1P2  AADACL2       P1P2  GGTAGAGCAATTGTAGACTT   \n",
       "AADACL2_-_151452019.23-P1P2  AADACL2       P1P2  GATGACTTATTGACTAAAAA   \n",
       "AADACL2_+_151452121.23-P1P2  AADACL2       P1P2  GACTGTTACTCACAGATATA   \n",
       "AADACL2_-_151451828.23-P1P2  AADACL2       P1P2  GTGGAAAAAGGGATATTATG   \n",
       "AADACL2_-_151451931.23-P1P2  AADACL2       P1P2  GAGCTGGAAAATAATGGCCT   \n",
       "\n",
       "                                                               oligo sequence  \\\n",
       "sgID                                                                            \n",
       "AADACL2_+_151451732.23-P1P2  CCACCTTGTTGGGTAGAGCAATTGTAGACTTGTTTAAGAGCTAAGCTG   \n",
       "AADACL2_-_151452019.23-P1P2  CCACCTTGTTGGATGACTTATTGACTAAAAAGTTTAAGAGCTAAGCTG   \n",
       "AADACL2_+_151452121.23-P1P2  CCACCTTGTTGGACTGTTACTCACAGATATAGTTTAAGAGCTAAGCTG   \n",
       "AADACL2_-_151451828.23-P1P2  CCACCTTGTTGGTGGAAAAAGGGATATTATGGTTTAAGAGCTAAGCTG   \n",
       "AADACL2_-_151451931.23-P1P2  CCACCTTGTTGGAGCTGGAAAATAATGGCCTGTTTAAGAGCTAAGCTG   \n",
       "\n",
       "                             predicted score  empirical score  \\\n",
       "sgID                                                            \n",
       "AADACL2_+_151451732.23-P1P2         0.693926              NaN   \n",
       "AADACL2_-_151452019.23-P1P2         0.451392              NaN   \n",
       "AADACL2_+_151452121.23-P1P2         0.426695              NaN   \n",
       "AADACL2_-_151451828.23-P1P2         0.404655              NaN   \n",
       "AADACL2_-_151451931.23-P1P2         0.404269              NaN   \n",
       "\n",
       "                             off-target stringency  \n",
       "sgID                                                \n",
       "AADACL2_+_151451732.23-P1P2                      0  \n",
       "AADACL2_-_151452019.23-P1P2                      0  \n",
       "AADACL2_+_151452121.23-P1P2                      0  \n",
       "AADACL2_-_151451828.23-P1P2                      0  \n",
       "AADACL2_-_151451931.23-P1P2                      0  "
      ]
     },
     "execution_count": 37,
     "metadata": {},
     "output_type": "execute_result"
    }
   ],
   "source": [
    "libraryTable_complete.head()"
   ]
  },
  {
   "cell_type": "markdown",
   "metadata": {},
   "source": [
    "# 5. Design negative controls matching the base composition of the library"
   ]
  },
  {
   "cell_type": "code",
   "execution_count": 38,
   "metadata": {
    "collapsed": true
   },
   "outputs": [],
   "source": [
    "#calcluate the base frequency at each position of the sgRNA, then generate random sequences weighted by this frequency\n",
    "def getBaseFrequencies(libraryTable, baseConversion = {'G':0, 'C':1, 'T':2, 'A':3}):\n",
    "    baseArray = np.zeros((len(libraryTable),20))\n",
    "\n",
    "    for i, (index, seq) in enumerate(libraryTable['protospacer sequence'].iteritems()):\n",
    "        for j, char in enumerate(seq.upper()):\n",
    "            baseArray[i,j] = baseConversion[char]\n",
    "\n",
    "    baseTable = pd.DataFrame(baseArray, index = libraryTable.index)\n",
    "    \n",
    "    baseFrequencies = baseTable.apply(lambda col: col.groupby(col).agg(len)).fillna(0) / len(baseTable)\n",
    "    baseFrequencies.index = ['G','C','T','A']\n",
    "    \n",
    "    baseCumulativeFrequencies = baseFrequencies.copy()\n",
    "    baseCumulativeFrequencies.loc['C'] = baseFrequencies.loc['G'] + baseFrequencies.loc['C']\n",
    "    baseCumulativeFrequencies.loc['T'] = baseFrequencies.loc['G'] + baseFrequencies.loc['C'] + baseFrequencies.loc['T']\n",
    "    baseCumulativeFrequencies.loc['A'] = baseFrequencies.loc['G'] + baseFrequencies.loc['C'] + baseFrequencies.loc['T'] + baseFrequencies.loc['A']\n",
    "\n",
    "    return baseFrequencies, baseCumulativeFrequencies\n",
    "\n",
    "def generateRandomSequence(baseCumulativeFrequencies):\n",
    "    randArray = np.random.random(baseCumulativeFrequencies.shape[1])\n",
    "    \n",
    "    seq = []\n",
    "    for i, col in baseCumulativeFrequencies.iteritems():\n",
    "        for base, freq in col.iteritems():\n",
    "            if randArray[i] < freq:\n",
    "                seq.append(base)\n",
    "                break\n",
    "                \n",
    "    return ''.join(seq)"
   ]
  },
  {
   "cell_type": "code",
   "execution_count": 40,
   "metadata": {
    "collapsed": false
   },
   "outputs": [],
   "source": [
    "baseCumulativeFrequencies = getBaseFrequencies(libraryTable_complete)[1]\n",
    "negList = []\n",
    "numberToGenerate = 1000 #can generate many more; some will be filtered out by off-targets, and you can always select an arbitrary subset for inclusion into the library\n",
    "for i in range(numberToGenerate):\n",
    "    negList.append(generateRandomSequence(baseCumulativeFrequencies))\n",
    "negTable = pd.DataFrame(negList, index=['non-targeting_' + str(i) for i in range(numberToGenerate)], columns = ['sequence'])\n",
    "\n",
    "fqFile = 'temp_bowtie_files/bowtie_input_negs.fq'\n",
    "outputTempBowtieFastq(negTable, fqFile)"
   ]
  },
  {
   "cell_type": "code",
   "execution_count": 41,
   "metadata": {
    "collapsed": false
   },
   "outputs": [
    {
     "name": "stdout",
     "output_type": "stream",
     "text": [
      "bowtie -n 3 -l 15 -e 31 -m 1 --nomaqround -a --tryhard -p 16 --chunkmbs 256 ~/indices/hg19.ensemblTSSflank500b --suppress 5,6,7 --un temp_bowtie_files/31_nearTSS_negs_unaligned.fq --max temp_bowtie_files/31_nearTSS_negs_max.fq  -q temp_bowtie_files/bowtie_input_negs.fq temp_bowtie_files/31_nearTSS_negs_aligned.txt\n",
      "0\n",
      "bowtie -n 3 -l 15 -e 21 -m 1 --nomaqround -a --tryhard -p 16 --chunkmbs 256 ~/indices/hg19_maskChrMandPAR --suppress 5,6,7 --un temp_bowtie_files/21_genome_negs_unaligned.fq --max temp_bowtie_files/21_genome_negs_max.fq  -q temp_bowtie_files/bowtie_input_negs.fq temp_bowtie_files/21_genome_negs_aligned.txt\n",
      "0\n"
     ]
    },
    {
     "data": {
      "text/html": [
       "<div>\n",
       "<table border=\"1\" class=\"dataframe\">\n",
       "  <thead>\n",
       "    <tr style=\"text-align: right;\">\n",
       "      <th></th>\n",
       "      <th>31_nearTSS_negs</th>\n",
       "      <th>21_genome_negs</th>\n",
       "    </tr>\n",
       "  </thead>\n",
       "  <tbody>\n",
       "    <tr>\n",
       "      <th>non-targeting_0</th>\n",
       "      <td>True</td>\n",
       "      <td>True</td>\n",
       "    </tr>\n",
       "    <tr>\n",
       "      <th>non-targeting_1</th>\n",
       "      <td>True</td>\n",
       "      <td>True</td>\n",
       "    </tr>\n",
       "    <tr>\n",
       "      <th>non-targeting_2</th>\n",
       "      <td>True</td>\n",
       "      <td>True</td>\n",
       "    </tr>\n",
       "    <tr>\n",
       "      <th>non-targeting_3</th>\n",
       "      <td>True</td>\n",
       "      <td>False</td>\n",
       "    </tr>\n",
       "    <tr>\n",
       "      <th>non-targeting_4</th>\n",
       "      <td>True</td>\n",
       "      <td>True</td>\n",
       "    </tr>\n",
       "  </tbody>\n",
       "</table>\n",
       "</div>"
      ],
      "text/plain": [
       "                31_nearTSS_negs 21_genome_negs\n",
       "non-targeting_0            True           True\n",
       "non-targeting_1            True           True\n",
       "non-targeting_2            True           True\n",
       "non-targeting_3            True          False\n",
       "non-targeting_4            True           True"
      ]
     },
     "execution_count": 41,
     "metadata": {},
     "output_type": "execute_result"
    }
   ],
   "source": [
    "#similar to targeting sgRNA off-target scoring, but looking for sgRNAs with 0 alignments\n",
    "alignmentList = [(31,1,'~/indices/hg19.ensemblTSSflank500b','31_nearTSS_negs'),\n",
    "                (21,1,'~/indices/hg19_maskChrMandPAR','21_genome_negs')]\n",
    "\n",
    "alignmentColumns = []\n",
    "for btThreshold, mflag, bowtieIndex, runname in alignmentList:\n",
    "\n",
    "    alignedFile = 'temp_bowtie_files/' + runname + '_aligned.txt'\n",
    "    unalignedFile = 'temp_bowtie_files/' + runname + '_unaligned.fq'\n",
    "    maxFile = 'temp_bowtie_files/' + runname + '_max.fq'\n",
    "    \n",
    "    bowtieString = 'bowtie -n 3 -l 15 -e '+str(btThreshold)+' -m ' + str(mflag) + ' --nomaqround -a --tryhard -p 16 --chunkmbs 256 ' + bowtieIndex + ' --suppress 5,6,7 --un ' + unalignedFile + ' --max ' + maxFile + ' '+ ' -q '+fqFile+' '+ alignedFile\n",
    "    print bowtieString\n",
    "    print subprocess.call(bowtieString, shell=True)\n",
    "\n",
    "    #read unaligned file for negs, and then don't flip boolean of alignmentTable\n",
    "    with open(unalignedFile) as infile:\n",
    "        sgsAligning = set()\n",
    "        for i, line in enumerate(infile):\n",
    "            if i%4 == 0: #id line\n",
    "                sgsAligning.add(line.strip()[1:])\n",
    "\n",
    "    alignmentColumns.append(negTable.apply(lambda row: row.name in sgsAligning, axis=1))\n",
    "    \n",
    "alignmentTable = pd.concat(alignmentColumns,axis=1, keys=zip(*alignmentList)[3])\n",
    "alignmentTable.head()"
   ]
  },
  {
   "cell_type": "code",
   "execution_count": 42,
   "metadata": {
    "collapsed": true
   },
   "outputs": [],
   "source": [
    "acceptedNegList = []\n",
    "negCount = 0\n",
    "for i, (name, row) in enumerate(pd.concat((negTable,alignmentTable),axis=1, keys=['seq','alignment']).iterrows()):\n",
    "    oligo = upstreamConstant + row['seq','sequence'] + downstreamConstant\n",
    "    if row['alignment'].all() and matchREsites(oligo, restrictionSites):\n",
    "        acceptedNegList.append(('non-targeting_%05d' % negCount, 'negative_control', 'na', row['seq','sequence'], oligo, 0))\n",
    "        negCount += 1\n",
    "        \n",
    "acceptedNegs = pd.DataFrame(acceptedNegList, columns = ['sgId', 'gene', 'transcript', 'protospacer sequence', 'oligo sequence', 'off-target stringency']).set_index('sgId')"
   ]
  },
  {
   "cell_type": "code",
   "execution_count": 43,
   "metadata": {
    "collapsed": false
   },
   "outputs": [
    {
     "data": {
      "text/html": [
       "<div>\n",
       "<table border=\"1\" class=\"dataframe\">\n",
       "  <thead>\n",
       "    <tr style=\"text-align: right;\">\n",
       "      <th></th>\n",
       "      <th>gene</th>\n",
       "      <th>transcript</th>\n",
       "      <th>protospacer sequence</th>\n",
       "      <th>oligo sequence</th>\n",
       "      <th>off-target stringency</th>\n",
       "    </tr>\n",
       "    <tr>\n",
       "      <th>sgId</th>\n",
       "      <th></th>\n",
       "      <th></th>\n",
       "      <th></th>\n",
       "      <th></th>\n",
       "      <th></th>\n",
       "    </tr>\n",
       "  </thead>\n",
       "  <tbody>\n",
       "    <tr>\n",
       "      <th>non-targeting_00000</th>\n",
       "      <td>negative_control</td>\n",
       "      <td>na</td>\n",
       "      <td>GGTTTCGCGCGCTTACAGAT</td>\n",
       "      <td>CCACCTTGTTGGGTTTCGCGCGCTTACAGATGTTTAAGAGCTAAGCTG</td>\n",
       "      <td>0</td>\n",
       "    </tr>\n",
       "    <tr>\n",
       "      <th>non-targeting_00001</th>\n",
       "      <td>negative_control</td>\n",
       "      <td>na</td>\n",
       "      <td>GGTGGTCGAAGATAGCGAGC</td>\n",
       "      <td>CCACCTTGTTGGGTGGTCGAAGATAGCGAGCGTTTAAGAGCTAAGCTG</td>\n",
       "      <td>0</td>\n",
       "    </tr>\n",
       "    <tr>\n",
       "      <th>non-targeting_00002</th>\n",
       "      <td>negative_control</td>\n",
       "      <td>na</td>\n",
       "      <td>GCTCTTGACAAATTCAAGCT</td>\n",
       "      <td>CCACCTTGTTGGCTCTTGACAAATTCAAGCTGTTTAAGAGCTAAGCTG</td>\n",
       "      <td>0</td>\n",
       "    </tr>\n",
       "    <tr>\n",
       "      <th>non-targeting_00003</th>\n",
       "      <td>negative_control</td>\n",
       "      <td>na</td>\n",
       "      <td>GGCCGGGAGAGCGGGAACTC</td>\n",
       "      <td>CCACCTTGTTGGGCCGGGAGAGCGGGAACTCGTTTAAGAGCTAAGCTG</td>\n",
       "      <td>0</td>\n",
       "    </tr>\n",
       "    <tr>\n",
       "      <th>non-targeting_00004</th>\n",
       "      <td>negative_control</td>\n",
       "      <td>na</td>\n",
       "      <td>GTCGCAAGCCGGGGTAGGGT</td>\n",
       "      <td>CCACCTTGTTGGTCGCAAGCCGGGGTAGGGTGTTTAAGAGCTAAGCTG</td>\n",
       "      <td>0</td>\n",
       "    </tr>\n",
       "  </tbody>\n",
       "</table>\n",
       "</div>"
      ],
      "text/plain": [
       "                                 gene transcript  protospacer sequence  \\\n",
       "sgId                                                                     \n",
       "non-targeting_00000  negative_control         na  GGTTTCGCGCGCTTACAGAT   \n",
       "non-targeting_00001  negative_control         na  GGTGGTCGAAGATAGCGAGC   \n",
       "non-targeting_00002  negative_control         na  GCTCTTGACAAATTCAAGCT   \n",
       "non-targeting_00003  negative_control         na  GGCCGGGAGAGCGGGAACTC   \n",
       "non-targeting_00004  negative_control         na  GTCGCAAGCCGGGGTAGGGT   \n",
       "\n",
       "                                                       oligo sequence  \\\n",
       "sgId                                                                    \n",
       "non-targeting_00000  CCACCTTGTTGGGTTTCGCGCGCTTACAGATGTTTAAGAGCTAAGCTG   \n",
       "non-targeting_00001  CCACCTTGTTGGGTGGTCGAAGATAGCGAGCGTTTAAGAGCTAAGCTG   \n",
       "non-targeting_00002  CCACCTTGTTGGCTCTTGACAAATTCAAGCTGTTTAAGAGCTAAGCTG   \n",
       "non-targeting_00003  CCACCTTGTTGGGCCGGGAGAGCGGGAACTCGTTTAAGAGCTAAGCTG   \n",
       "non-targeting_00004  CCACCTTGTTGGTCGCAAGCCGGGGTAGGGTGTTTAAGAGCTAAGCTG   \n",
       "\n",
       "                     off-target stringency  \n",
       "sgId                                        \n",
       "non-targeting_00000                      0  \n",
       "non-targeting_00001                      0  \n",
       "non-targeting_00002                      0  \n",
       "non-targeting_00003                      0  \n",
       "non-targeting_00004                      0  "
      ]
     },
     "execution_count": 43,
     "metadata": {},
     "output_type": "execute_result"
    }
   ],
   "source": [
    "acceptedNegs.head()"
   ]
  },
  {
   "cell_type": "code",
   "execution_count": null,
   "metadata": {
    "collapsed": true
   },
   "outputs": [],
   "source": [
    "libraryTable_complete.to_csv(LIBRARY_WITHOUT_NEGATIVES_PATH, sep='\\t')\n",
    "acceptedNegs.to_csv(NEGATIVE_CONTROLS_PATH,sep='\\t')"
   ]
  },
  {
   "cell_type": "markdown",
   "metadata": {},
   "source": [
    "# 6. Finalizing library design"
   ]
  },
  {
   "cell_type": "markdown",
   "metadata": {},
   "source": [
    "* divide genes into sublibrary groups (if required)\n",
    "* assign negative control sgRNAs to sublibrary groups; ~1-2% of the number of sgRNAs in the library is a good rule-of-thumb\n",
    "* append PCR adapter sequences (~18bp) to each end of the oligo sequences to enable amplification of the oligo pool; each sublibary should have an orthogonal sequence so they can be cloned separately"
   ]
  },
  {
   "cell_type": "code",
   "execution_count": null,
   "metadata": {
    "collapsed": true
   },
   "outputs": [],
   "source": []
  }
 ],
 "metadata": {
  "kernelspec": {
   "display_name": "Python 2",
   "language": "python",
   "name": "python2"
  },
  "language_info": {
   "codemirror_mode": {
    "name": "ipython",
    "version": 2
   },
   "file_extension": ".py",
   "mimetype": "text/x-python",
   "name": "python",
   "nbconvert_exporter": "python",
   "pygments_lexer": "ipython2",
   "version": "2.7.3"
  }
 },
 "nbformat": 4,
 "nbformat_minor": 0
}
